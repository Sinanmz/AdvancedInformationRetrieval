{
  "cells": [
    {
      "cell_type": "code",
      "execution_count": 1,
      "metadata": {
        "colab": {
          "base_uri": "https://localhost:8080/"
        },
        "id": "5WP7WWcC71d0",
        "outputId": "5657cd83-924a-4cfd-f2b3-4087717dba0f"
      },
      "outputs": [],
      "source": [
        "# from google.colab import drive\n",
        "# drive.mount('/content/drive')"
      ]
    },
    {
      "cell_type": "code",
      "execution_count": 2,
      "metadata": {},
      "outputs": [],
      "source": [
        "import os\n",
        "import sys\n",
        "import os\n",
        "current_dir = os.getcwd()\n",
        "core_dir = os.path.dirname(current_dir)\n",
        "Logic_dir = os.path.dirname(core_dir)\n",
        "project_root = os.path.dirname(Logic_dir)\n",
        "if project_root not in sys.path:\n",
        "    sys.path.append(project_root)"
      ]
    },
    {
      "cell_type": "code",
      "execution_count": 3,
      "metadata": {
        "id": "d7T_DzAQCiLr"
      },
      "outputs": [],
      "source": [
        "import pandas as pd\n",
        "\n",
        "ratings_path = project_root+'/data/ratings.csv'\n",
        "movies_path = project_root+'/data/movies.csv'\n",
        "\n",
        "\n",
        "ratings = pd.read_csv(ratings_path, sep='\\t', encoding='latin-1',\n",
        "                      usecols=['user_id', 'movie_id', 'user_emb_id', 'movie_emb_id', 'rating'])\n",
        "\n",
        "movies = pd.read_csv(movies_path, sep='\\t', encoding='latin-1',\n",
        "                     usecols=['movie_id', 'title', 'genres'])"
      ]
    },
    {
      "cell_type": "code",
      "execution_count": 4,
      "metadata": {
        "colab": {
          "base_uri": "https://localhost:8080/",
          "height": 206
        },
        "id": "XfuH9tB45bjb",
        "outputId": "9c664330-5775-4301-9025-626b40f89938"
      },
      "outputs": [
        {
          "data": {
            "text/html": [
              "<div>\n",
              "<style scoped>\n",
              "    .dataframe tbody tr th:only-of-type {\n",
              "        vertical-align: middle;\n",
              "    }\n",
              "\n",
              "    .dataframe tbody tr th {\n",
              "        vertical-align: top;\n",
              "    }\n",
              "\n",
              "    .dataframe thead th {\n",
              "        text-align: right;\n",
              "    }\n",
              "</style>\n",
              "<table border=\"1\" class=\"dataframe\">\n",
              "  <thead>\n",
              "    <tr style=\"text-align: right;\">\n",
              "      <th></th>\n",
              "      <th>movie_id</th>\n",
              "      <th>title</th>\n",
              "      <th>genres</th>\n",
              "    </tr>\n",
              "  </thead>\n",
              "  <tbody>\n",
              "    <tr>\n",
              "      <th>0</th>\n",
              "      <td>1</td>\n",
              "      <td>Toy Story (1995)</td>\n",
              "      <td>Animation|Children's|Comedy</td>\n",
              "    </tr>\n",
              "    <tr>\n",
              "      <th>1</th>\n",
              "      <td>2</td>\n",
              "      <td>Jumanji (1995)</td>\n",
              "      <td>Adventure|Children's|Fantasy</td>\n",
              "    </tr>\n",
              "    <tr>\n",
              "      <th>2</th>\n",
              "      <td>3</td>\n",
              "      <td>Grumpier Old Men (1995)</td>\n",
              "      <td>Comedy|Romance</td>\n",
              "    </tr>\n",
              "    <tr>\n",
              "      <th>3</th>\n",
              "      <td>4</td>\n",
              "      <td>Waiting to Exhale (1995)</td>\n",
              "      <td>Comedy|Drama</td>\n",
              "    </tr>\n",
              "    <tr>\n",
              "      <th>4</th>\n",
              "      <td>5</td>\n",
              "      <td>Father of the Bride Part II (1995)</td>\n",
              "      <td>Comedy</td>\n",
              "    </tr>\n",
              "  </tbody>\n",
              "</table>\n",
              "</div>"
            ],
            "text/plain": [
              "   movie_id                               title                        genres\n",
              "0         1                    Toy Story (1995)   Animation|Children's|Comedy\n",
              "1         2                      Jumanji (1995)  Adventure|Children's|Fantasy\n",
              "2         3             Grumpier Old Men (1995)                Comedy|Romance\n",
              "3         4            Waiting to Exhale (1995)                  Comedy|Drama\n",
              "4         5  Father of the Bride Part II (1995)                        Comedy"
            ]
          },
          "execution_count": 4,
          "metadata": {},
          "output_type": "execute_result"
        }
      ],
      "source": [
        "movies.head(5)"
      ]
    },
    {
      "cell_type": "code",
      "execution_count": 5,
      "metadata": {
        "colab": {
          "base_uri": "https://localhost:8080/",
          "height": 206
        },
        "id": "AG7B-H2H4eKP",
        "outputId": "a9354bcd-bed5-44e0-f558-b2415e0e6011"
      },
      "outputs": [
        {
          "data": {
            "text/html": [
              "<div>\n",
              "<style scoped>\n",
              "    .dataframe tbody tr th:only-of-type {\n",
              "        vertical-align: middle;\n",
              "    }\n",
              "\n",
              "    .dataframe tbody tr th {\n",
              "        vertical-align: top;\n",
              "    }\n",
              "\n",
              "    .dataframe thead th {\n",
              "        text-align: right;\n",
              "    }\n",
              "</style>\n",
              "<table border=\"1\" class=\"dataframe\">\n",
              "  <thead>\n",
              "    <tr style=\"text-align: right;\">\n",
              "      <th></th>\n",
              "      <th>user_id</th>\n",
              "      <th>movie_id</th>\n",
              "      <th>rating</th>\n",
              "      <th>user_emb_id</th>\n",
              "      <th>movie_emb_id</th>\n",
              "    </tr>\n",
              "  </thead>\n",
              "  <tbody>\n",
              "    <tr>\n",
              "      <th>0</th>\n",
              "      <td>1</td>\n",
              "      <td>1193</td>\n",
              "      <td>5</td>\n",
              "      <td>0</td>\n",
              "      <td>1192</td>\n",
              "    </tr>\n",
              "    <tr>\n",
              "      <th>1</th>\n",
              "      <td>1</td>\n",
              "      <td>661</td>\n",
              "      <td>3</td>\n",
              "      <td>0</td>\n",
              "      <td>660</td>\n",
              "    </tr>\n",
              "    <tr>\n",
              "      <th>2</th>\n",
              "      <td>1</td>\n",
              "      <td>914</td>\n",
              "      <td>3</td>\n",
              "      <td>0</td>\n",
              "      <td>913</td>\n",
              "    </tr>\n",
              "    <tr>\n",
              "      <th>3</th>\n",
              "      <td>1</td>\n",
              "      <td>3408</td>\n",
              "      <td>4</td>\n",
              "      <td>0</td>\n",
              "      <td>3407</td>\n",
              "    </tr>\n",
              "    <tr>\n",
              "      <th>4</th>\n",
              "      <td>1</td>\n",
              "      <td>2355</td>\n",
              "      <td>5</td>\n",
              "      <td>0</td>\n",
              "      <td>2354</td>\n",
              "    </tr>\n",
              "  </tbody>\n",
              "</table>\n",
              "</div>"
            ],
            "text/plain": [
              "   user_id  movie_id  rating  user_emb_id  movie_emb_id\n",
              "0        1      1193       5            0          1192\n",
              "1        1       661       3            0           660\n",
              "2        1       914       3            0           913\n",
              "3        1      3408       4            0          3407\n",
              "4        1      2355       5            0          2354"
            ]
          },
          "execution_count": 5,
          "metadata": {},
          "output_type": "execute_result"
        }
      ],
      "source": [
        "ratings.head(5)"
      ]
    },
    {
      "cell_type": "markdown",
      "metadata": {
        "id": "VszS9wr3tr-1"
      },
      "source": [
        "### Content Based\n",
        "\n",
        "**Objective**: Build a Content-Based Recommendation system that computes similarity between movies based on movie genres. It will suggest movies that are most similar to a particular movie based on its genre.\n",
        "\n",
        "**Dataset**:\n",
        "- **Movies Data**: DataFrame with columns `movie_id`, `title`, and `genres`.\n",
        "\n",
        "**Steps**:\n",
        "\n",
        "1. **Preprocess Data**:\n",
        "   - Split the `genres` column into separate genre strings.\n",
        "   - Fill any missing values in the `genres` column and convert it to string.\n",
        "\n",
        "2. **Compute TF-IDF Matrix**:\n",
        "   - Use `TfidfVectorizer` to transform the genres into a TF-IDF matrix.\n",
        "\n",
        "3. **Calculate Cosine Similarity**:\n",
        "   - Compute cosine similarity between the TF-IDF matrices of movies.\n",
        "\n",
        "4. **Recommend Movies**:\n",
        "   - Create a function that gets movie recommendations based on the cosine similarity score of movie genres."
      ]
    },
    {
      "cell_type": "code",
      "execution_count": 6,
      "metadata": {
        "id": "H7yBCgOcLHdA"
      },
      "outputs": [],
      "source": [
        "movies['genres'] = movies['genres'].str.split('|')\n",
        "movies['genres'] = movies['genres'].fillna(\"\").astype('str')"
      ]
    },
    {
      "cell_type": "code",
      "execution_count": 7,
      "metadata": {
        "id": "mMRR5ZWCLIKW"
      },
      "outputs": [],
      "source": [
        "from sklearn.feature_extraction.text import TfidfVectorizer\n",
        "\n",
        "tf = TfidfVectorizer(analyzer='word',ngram_range=(1, 2),min_df=0.0, stop_words='english')\n",
        "tfidf_matrix = tf.fit_transform(movies['genres'])"
      ]
    },
    {
      "cell_type": "code",
      "execution_count": 8,
      "metadata": {
        "id": "z5ZkCc3ZLKMW"
      },
      "outputs": [],
      "source": [
        "from sklearn.metrics.pairwise import linear_kernel\n",
        "\n",
        "cosine_sim = linear_kernel(tfidf_matrix, tfidf_matrix)"
      ]
    },
    {
      "cell_type": "code",
      "execution_count": 9,
      "metadata": {
        "id": "SuZyCCz-vXz5"
      },
      "outputs": [],
      "source": [
        "def genre_recommendations(title, n=10):\n",
        "    #TODO\n",
        "    idx = movies.loc[movies['title'] == title].index[0]\n",
        "    sim_scores = list(enumerate(cosine_sim[idx]))\n",
        "    sim_scores = sorted(sim_scores, key=lambda x: x[1], reverse=True)\n",
        "    sim_scores = sim_scores[1:n+1]\n",
        "    movie_indices = [i[0] for i in sim_scores]\n",
        "    return movies['title'].iloc[movie_indices]\n",
        "    "
      ]
    },
    {
      "cell_type": "code",
      "execution_count": 10,
      "metadata": {
        "colab": {
          "base_uri": "https://localhost:8080/"
        },
        "id": "V2Nztyl3vYkd",
        "outputId": "86cba97f-2803-4493-8b4b-fbfa3d62be3c"
      },
      "outputs": [
        {
          "data": {
            "text/plain": [
              "345     Clear and Present Danger (1994)\n",
              "543           Surviving the Game (1994)\n",
              "724                    Rock, The (1996)\n",
              "788                     Daylight (1996)\n",
              "825               Chain Reaction (1996)\n",
              "978                 Maximum Risk (1996)\n",
              "1467                    Anaconda (1997)\n",
              "1513                     Con Air (1997)\n",
              "1693                   Firestorm (1998)\n",
              "3686          Perfect Storm, The (2000)\n",
              "Name: title, dtype: object"
            ]
          },
          "execution_count": 10,
          "metadata": {},
          "output_type": "execute_result"
        }
      ],
      "source": [
        "# Example\n",
        "genre_recommendations('GoldenEye (1995)')"
      ]
    },
    {
      "cell_type": "markdown",
      "metadata": {
        "id": "fzAN3JRjQLir"
      },
      "source": [
        "\n",
        "### Collaborative Filtering\n",
        "\n",
        "**Objective**: Implement a collaborative filtering movie recommendation system to recommend movies to a user based on similar users' spreferences.\n",
        "\n",
        "**Dataset**:\n",
        "\n",
        "- **Ratings Data**: DataFrame with columns `user_id`, `movie_id`, and `rating`.\n",
        "- **Movies Data**: DataFrame with columns `movie_id`, `title`, and `genres`.\n",
        "\n",
        "**Steps**:\n",
        "\n",
        "1. **Preprocess Data**:\n",
        "   - Merge `ratings` and `movies` DataFrames on `movie_id`.\n",
        "   - Split `genres` column into separate rows.\n",
        "\n",
        "2. **Create User-Genre Matrix**:\n",
        "   - Create a matrix where rows are users and columns are genres.\n",
        "   - Each cell represents the ratio of movies watched by the user in that genre to the total movies watched by the user.\n",
        "\n",
        "3. **Calculate User Similarity**:\n",
        "   - Use cosine similarity to calculate the similarity between users.\n",
        "\n",
        "4. **Find Top N Similar Users**:\n",
        "   - Find the top N users with the most similar preferences to the given user.\n",
        "\n",
        "5. **Recommend Movies**:\n",
        "   - Recommend movies that similar users have watched but the target user has not.\n",
        "   - Return titles and genres of the top 10 recommended movies."
      ]
    },
    {
      "cell_type": "code",
      "execution_count": 11,
      "metadata": {
        "id": "F7OCOj_cLaZD"
      },
      "outputs": [],
      "source": [
        "import pandas as pd\n",
        "import numpy as np\n",
        "from sklearn.metrics.pairwise import cosine_similarity"
      ]
    },
    {
      "cell_type": "code",
      "execution_count": 12,
      "metadata": {
        "id": "i4yACSHKLa3B"
      },
      "outputs": [],
      "source": [
        "ratings = pd.read_csv(ratings_path, sep='\\t', encoding='latin-1',\n",
        "                      usecols=['user_id', 'movie_id', 'rating'])\n",
        "\n",
        "movies = pd.read_csv(movies_path, sep='\\t', encoding='latin-1',\n",
        "                     usecols=['movie_id', 'title', 'genres'])\n",
        "\n",
        "data = pd.merge(ratings, movies, on='movie_id')"
      ]
    },
    {
      "cell_type": "code",
      "execution_count": 13,
      "metadata": {
        "id": "4UYm-ewOMbsV"
      },
      "outputs": [
        {
          "data": {
            "text/html": [
              "<div>\n",
              "<style scoped>\n",
              "    .dataframe tbody tr th:only-of-type {\n",
              "        vertical-align: middle;\n",
              "    }\n",
              "\n",
              "    .dataframe tbody tr th {\n",
              "        vertical-align: top;\n",
              "    }\n",
              "\n",
              "    .dataframe thead th {\n",
              "        text-align: right;\n",
              "    }\n",
              "</style>\n",
              "<table border=\"1\" class=\"dataframe\">\n",
              "  <thead>\n",
              "    <tr style=\"text-align: right;\">\n",
              "      <th></th>\n",
              "      <th>user_id</th>\n",
              "      <th>movie_id</th>\n",
              "      <th>rating</th>\n",
              "      <th>title</th>\n",
              "      <th>genres</th>\n",
              "    </tr>\n",
              "  </thead>\n",
              "  <tbody>\n",
              "    <tr>\n",
              "      <th>0</th>\n",
              "      <td>1</td>\n",
              "      <td>1193</td>\n",
              "      <td>5</td>\n",
              "      <td>One Flew Over the Cuckoo's Nest (1975)</td>\n",
              "      <td>Drama</td>\n",
              "    </tr>\n",
              "    <tr>\n",
              "      <th>1</th>\n",
              "      <td>1</td>\n",
              "      <td>661</td>\n",
              "      <td>3</td>\n",
              "      <td>James and the Giant Peach (1996)</td>\n",
              "      <td>Animation|Children's|Musical</td>\n",
              "    </tr>\n",
              "    <tr>\n",
              "      <th>2</th>\n",
              "      <td>1</td>\n",
              "      <td>914</td>\n",
              "      <td>3</td>\n",
              "      <td>My Fair Lady (1964)</td>\n",
              "      <td>Musical|Romance</td>\n",
              "    </tr>\n",
              "    <tr>\n",
              "      <th>3</th>\n",
              "      <td>1</td>\n",
              "      <td>3408</td>\n",
              "      <td>4</td>\n",
              "      <td>Erin Brockovich (2000)</td>\n",
              "      <td>Drama</td>\n",
              "    </tr>\n",
              "    <tr>\n",
              "      <th>4</th>\n",
              "      <td>1</td>\n",
              "      <td>2355</td>\n",
              "      <td>5</td>\n",
              "      <td>Bug's Life, A (1998)</td>\n",
              "      <td>Animation|Children's|Comedy</td>\n",
              "    </tr>\n",
              "  </tbody>\n",
              "</table>\n",
              "</div>"
            ],
            "text/plain": [
              "   user_id  movie_id  rating                                   title  \\\n",
              "0        1      1193       5  One Flew Over the Cuckoo's Nest (1975)   \n",
              "1        1       661       3        James and the Giant Peach (1996)   \n",
              "2        1       914       3                     My Fair Lady (1964)   \n",
              "3        1      3408       4                  Erin Brockovich (2000)   \n",
              "4        1      2355       5                    Bug's Life, A (1998)   \n",
              "\n",
              "                         genres  \n",
              "0                         Drama  \n",
              "1  Animation|Children's|Musical  \n",
              "2               Musical|Romance  \n",
              "3                         Drama  \n",
              "4   Animation|Children's|Comedy  "
            ]
          },
          "execution_count": 13,
          "metadata": {},
          "output_type": "execute_result"
        }
      ],
      "source": [
        "data.head(5)"
      ]
    },
    {
      "cell_type": "code",
      "execution_count": 14,
      "metadata": {
        "id": "pm-nVWN9MdcJ"
      },
      "outputs": [],
      "source": [
        "data_genres = data.assign(genres=data['genres'].str.split('|')).explode('genres')"
      ]
    },
    {
      "cell_type": "code",
      "execution_count": 15,
      "metadata": {
        "id": "PmJJkBHqMfmx"
      },
      "outputs": [
        {
          "data": {
            "text/html": [
              "<div>\n",
              "<style scoped>\n",
              "    .dataframe tbody tr th:only-of-type {\n",
              "        vertical-align: middle;\n",
              "    }\n",
              "\n",
              "    .dataframe tbody tr th {\n",
              "        vertical-align: top;\n",
              "    }\n",
              "\n",
              "    .dataframe thead th {\n",
              "        text-align: right;\n",
              "    }\n",
              "</style>\n",
              "<table border=\"1\" class=\"dataframe\">\n",
              "  <thead>\n",
              "    <tr style=\"text-align: right;\">\n",
              "      <th></th>\n",
              "      <th>user_id</th>\n",
              "      <th>movie_id</th>\n",
              "      <th>rating</th>\n",
              "      <th>title</th>\n",
              "      <th>genres</th>\n",
              "    </tr>\n",
              "  </thead>\n",
              "  <tbody>\n",
              "    <tr>\n",
              "      <th>0</th>\n",
              "      <td>1</td>\n",
              "      <td>1193</td>\n",
              "      <td>5</td>\n",
              "      <td>One Flew Over the Cuckoo's Nest (1975)</td>\n",
              "      <td>Drama</td>\n",
              "    </tr>\n",
              "    <tr>\n",
              "      <th>1</th>\n",
              "      <td>1</td>\n",
              "      <td>661</td>\n",
              "      <td>3</td>\n",
              "      <td>James and the Giant Peach (1996)</td>\n",
              "      <td>Animation</td>\n",
              "    </tr>\n",
              "    <tr>\n",
              "      <th>1</th>\n",
              "      <td>1</td>\n",
              "      <td>661</td>\n",
              "      <td>3</td>\n",
              "      <td>James and the Giant Peach (1996)</td>\n",
              "      <td>Children's</td>\n",
              "    </tr>\n",
              "    <tr>\n",
              "      <th>1</th>\n",
              "      <td>1</td>\n",
              "      <td>661</td>\n",
              "      <td>3</td>\n",
              "      <td>James and the Giant Peach (1996)</td>\n",
              "      <td>Musical</td>\n",
              "    </tr>\n",
              "    <tr>\n",
              "      <th>2</th>\n",
              "      <td>1</td>\n",
              "      <td>914</td>\n",
              "      <td>3</td>\n",
              "      <td>My Fair Lady (1964)</td>\n",
              "      <td>Musical</td>\n",
              "    </tr>\n",
              "  </tbody>\n",
              "</table>\n",
              "</div>"
            ],
            "text/plain": [
              "   user_id  movie_id  rating                                   title  \\\n",
              "0        1      1193       5  One Flew Over the Cuckoo's Nest (1975)   \n",
              "1        1       661       3        James and the Giant Peach (1996)   \n",
              "1        1       661       3        James and the Giant Peach (1996)   \n",
              "1        1       661       3        James and the Giant Peach (1996)   \n",
              "2        1       914       3                     My Fair Lady (1964)   \n",
              "\n",
              "       genres  \n",
              "0       Drama  \n",
              "1   Animation  \n",
              "1  Children's  \n",
              "1     Musical  \n",
              "2     Musical  "
            ]
          },
          "execution_count": 15,
          "metadata": {},
          "output_type": "execute_result"
        }
      ],
      "source": [
        "data_genres.head(5)"
      ]
    },
    {
      "cell_type": "code",
      "execution_count": 16,
      "metadata": {
        "id": "kKDRWOLQdYYo"
      },
      "outputs": [],
      "source": [
        "def get_top_n_similar_users(user_id, n=5):\n",
        "    user_genre_matrix = data_genres.pivot_table(index='user_id', columns='genres', aggfunc='size', fill_value=0)\n",
        "    user_genre_matrix = user_genre_matrix.div(user_genre_matrix.sum(axis=1), axis=0)\n",
        "    user_genre_matrix = user_genre_matrix.fillna(0)\n",
        "    user_genre_matrix_values = user_genre_matrix.values\n",
        "\n",
        "    user_vec = user_genre_matrix_values[user_id - 1]\n",
        "\n",
        "    user_similarity = cosine_similarity(user_genre_matrix_values, [user_vec]).flatten()\n",
        "\n",
        "    similar_indices = np.argsort(user_similarity)[::-1]\n",
        "    top_n_indices = similar_indices[similar_indices != (user_id - 1)][:n]\n",
        "\n",
        "    return top_n_indices + 1, user_similarity[top_n_indices]"
      ]
    },
    {
      "cell_type": "code",
      "execution_count": 17,
      "metadata": {
        "id": "AFfL391uddRd"
      },
      "outputs": [],
      "source": [
        "def recommend_movies(user_id, n_similar_users=5, n_recommendations=10):\n",
        "    similar_users, scores = get_top_n_similar_users(user_id, n_similar_users)\n",
        "    \n",
        "    user_movies = set(data.loc[data['user_id'] == user_id, 'movie_id'])\n",
        "    \n",
        "    similar_users_movies = {}\n",
        "    for similar_user_id, score in zip(similar_users, scores):\n",
        "        similar_movies = set(data.loc[data['user_id'] == similar_user_id, 'movie_id'])\n",
        "        for movie in similar_movies:\n",
        "            if movie not in user_movies:\n",
        "                if movie not in similar_users_movies:\n",
        "                    similar_users_movies[movie] = 0\n",
        "                similar_users_movies[movie] += score\n",
        "    \n",
        "    sorted_movies = sorted(similar_users_movies.items(), key=lambda x: x[1], reverse=True)\n",
        "    \n",
        "    top_movie_ids = [movie_id for movie_id, score in sorted_movies[:n_recommendations]]\n",
        "    recommended_movies = movies[movies['movie_id'].isin(top_movie_ids)]\n",
        "    \n",
        "    return recommended_movies"
      ]
    },
    {
      "cell_type": "code",
      "execution_count": 18,
      "metadata": {
        "id": "jrw5w4ZGdgmz"
      },
      "outputs": [],
      "source": [
        "# Example\n",
        "user_id = 1\n",
        "recommended_movies = recommend_movies(user_id, n_similar_users=5, n_recommendations=10)"
      ]
    },
    {
      "cell_type": "code",
      "execution_count": 19,
      "metadata": {
        "colab": {
          "base_uri": "https://localhost:8080/",
          "height": 359
        },
        "id": "7pwe2K5Ndm9a",
        "outputId": "92c21630-cdf2-4faa-87e8-f5c21c7f10f4"
      },
      "outputs": [
        {
          "data": {
            "text/html": [
              "<div>\n",
              "<style scoped>\n",
              "    .dataframe tbody tr th:only-of-type {\n",
              "        vertical-align: middle;\n",
              "    }\n",
              "\n",
              "    .dataframe tbody tr th {\n",
              "        vertical-align: top;\n",
              "    }\n",
              "\n",
              "    .dataframe thead th {\n",
              "        text-align: right;\n",
              "    }\n",
              "</style>\n",
              "<table border=\"1\" class=\"dataframe\">\n",
              "  <thead>\n",
              "    <tr style=\"text-align: right;\">\n",
              "      <th></th>\n",
              "      <th>movie_id</th>\n",
              "      <th>title</th>\n",
              "      <th>genres</th>\n",
              "    </tr>\n",
              "  </thead>\n",
              "  <tbody>\n",
              "    <tr>\n",
              "      <th>33</th>\n",
              "      <td>34</td>\n",
              "      <td>Babe (1995)</td>\n",
              "      <td>Children's|Comedy|Drama</td>\n",
              "    </tr>\n",
              "    <tr>\n",
              "      <th>589</th>\n",
              "      <td>593</td>\n",
              "      <td>Silence of the Lambs, The (1991)</td>\n",
              "      <td>Drama|Thriller</td>\n",
              "    </tr>\n",
              "    <tr>\n",
              "      <th>900</th>\n",
              "      <td>912</td>\n",
              "      <td>Casablanca (1942)</td>\n",
              "      <td>Drama|Romance|War</td>\n",
              "    </tr>\n",
              "    <tr>\n",
              "      <th>1019</th>\n",
              "      <td>1032</td>\n",
              "      <td>Alice in Wonderland (1951)</td>\n",
              "      <td>Animation|Children's|Musical</td>\n",
              "    </tr>\n",
              "    <tr>\n",
              "      <th>2009</th>\n",
              "      <td>2078</td>\n",
              "      <td>Jungle Book, The (1967)</td>\n",
              "      <td>Animation|Children's|Comedy|Musical</td>\n",
              "    </tr>\n",
              "    <tr>\n",
              "      <th>2011</th>\n",
              "      <td>2080</td>\n",
              "      <td>Lady and the Tramp (1955)</td>\n",
              "      <td>Animation|Children's|Comedy|Musical|Romance</td>\n",
              "    </tr>\n",
              "    <tr>\n",
              "      <th>2012</th>\n",
              "      <td>2081</td>\n",
              "      <td>Little Mermaid, The (1989)</td>\n",
              "      <td>Animation|Children's|Comedy|Musical|Romance</td>\n",
              "    </tr>\n",
              "    <tr>\n",
              "      <th>2018</th>\n",
              "      <td>2087</td>\n",
              "      <td>Peter Pan (1953)</td>\n",
              "      <td>Animation|Children's|Fantasy|Musical</td>\n",
              "    </tr>\n",
              "    <tr>\n",
              "      <th>2027</th>\n",
              "      <td>2096</td>\n",
              "      <td>Sleeping Beauty (1959)</td>\n",
              "      <td>Animation|Children's|Musical</td>\n",
              "    </tr>\n",
              "    <tr>\n",
              "      <th>2789</th>\n",
              "      <td>2858</td>\n",
              "      <td>American Beauty (1999)</td>\n",
              "      <td>Comedy|Drama</td>\n",
              "    </tr>\n",
              "  </tbody>\n",
              "</table>\n",
              "</div>"
            ],
            "text/plain": [
              "      movie_id                             title  \\\n",
              "33          34                       Babe (1995)   \n",
              "589        593  Silence of the Lambs, The (1991)   \n",
              "900        912                 Casablanca (1942)   \n",
              "1019      1032        Alice in Wonderland (1951)   \n",
              "2009      2078           Jungle Book, The (1967)   \n",
              "2011      2080         Lady and the Tramp (1955)   \n",
              "2012      2081        Little Mermaid, The (1989)   \n",
              "2018      2087                  Peter Pan (1953)   \n",
              "2027      2096            Sleeping Beauty (1959)   \n",
              "2789      2858            American Beauty (1999)   \n",
              "\n",
              "                                           genres  \n",
              "33                        Children's|Comedy|Drama  \n",
              "589                                Drama|Thriller  \n",
              "900                             Drama|Romance|War  \n",
              "1019                 Animation|Children's|Musical  \n",
              "2009          Animation|Children's|Comedy|Musical  \n",
              "2011  Animation|Children's|Comedy|Musical|Romance  \n",
              "2012  Animation|Children's|Comedy|Musical|Romance  \n",
              "2018         Animation|Children's|Fantasy|Musical  \n",
              "2027                 Animation|Children's|Musical  \n",
              "2789                                 Comedy|Drama  "
            ]
          },
          "execution_count": 19,
          "metadata": {},
          "output_type": "execute_result"
        }
      ],
      "source": [
        "recommended_movies"
      ]
    },
    {
      "cell_type": "markdown",
      "metadata": {
        "id": "F8rQ5EfYyxHe"
      },
      "source": [
        "### SVD (Singular Value Decomposition)\n",
        "\n"
      ]
    },
    {
      "cell_type": "markdown",
      "metadata": {
        "id": "rg58Uuv43VHl"
      },
      "source": [
        "**Objective**: Implement an SVD-based recommendation system to recommend movies to users by decomposing the user-item interaction matrix into latent factors.\n",
        "\n",
        "**Dataset**:\n",
        "- **Ratings Data**: DataFrame with columns `user_id`, `movie_id`, and `rating`.\n",
        "- **Movies Data**: DataFrame with columns `movie_id`, `title`, and `genres`.\n",
        "\n",
        "**Steps**:\n",
        "\n",
        "1. **Preprocess Data**:\n",
        "   - Merge `ratings` and `movies` DataFrames on `movie_id`.\n",
        "   - Create a user-item matrix where rows represent users, columns represent movies, and the values are the ratings.\n",
        "\n",
        "2. **Decompose Matrix using SVD**:\n",
        "   - Apply Singular Value Decomposition (SVD) to decompose the user-item matrix into three matrices: $U$, $\\Sigma$, and $V^T$.\n",
        "\n",
        "3. **Reconstruct Matrix**:\n",
        "   - Reconstruct the user-item matrix using the top $k$ singular values to reduce dimensionality.\n",
        "\n",
        "4. **Predict Ratings**:\n",
        "   - Use the reconstructed matrix to predict ratings for all user-item pairs.\n",
        "\n",
        "5. **Recommend Movies**:\n",
        "   - Recommend the top 20 movies with the highest predicted ratings for a given user that the user hasn't rated yet."
      ]
    },
    {
      "cell_type": "code",
      "execution_count": 20,
      "metadata": {
        "id": "cR6nM0Xh9-RU"
      },
      "outputs": [
        {
          "name": "stdout",
          "output_type": "stream",
          "text": [
            "Number of users = 6040 | Number of movies = 3706\n"
          ]
        }
      ],
      "source": [
        "ratings = pd.read_csv(ratings_path, sep='\\t', encoding='latin-1',\n",
        "                      usecols=['user_id', 'movie_id', 'user_emb_id', 'movie_emb_id', 'rating'])\n",
        "\n",
        "movies = pd.read_csv(movies_path, sep='\\t', encoding='latin-1',\n",
        "                     usecols=['movie_id', 'title', 'genres'])\n",
        "\n",
        "n_users = ratings.user_id.unique().shape[0]\n",
        "n_movies = ratings.movie_id.unique().shape[0]\n",
        "print('Number of users = ' + str(n_users) + ' | Number of movies = ' + str(n_movies))"
      ]
    },
    {
      "cell_type": "markdown",
      "metadata": {
        "id": "AejbQ3PmSaPk"
      },
      "source": [
        "Fill na elements."
      ]
    },
    {
      "cell_type": "code",
      "execution_count": 21,
      "metadata": {
        "id": "0gXWDE2b-SjD"
      },
      "outputs": [
        {
          "data": {
            "text/html": [
              "<div>\n",
              "<style scoped>\n",
              "    .dataframe tbody tr th:only-of-type {\n",
              "        vertical-align: middle;\n",
              "    }\n",
              "\n",
              "    .dataframe tbody tr th {\n",
              "        vertical-align: top;\n",
              "    }\n",
              "\n",
              "    .dataframe thead th {\n",
              "        text-align: right;\n",
              "    }\n",
              "</style>\n",
              "<table border=\"1\" class=\"dataframe\">\n",
              "  <thead>\n",
              "    <tr style=\"text-align: right;\">\n",
              "      <th>movie_id</th>\n",
              "      <th>1</th>\n",
              "      <th>2</th>\n",
              "      <th>3</th>\n",
              "      <th>4</th>\n",
              "      <th>5</th>\n",
              "      <th>6</th>\n",
              "      <th>7</th>\n",
              "      <th>8</th>\n",
              "      <th>9</th>\n",
              "      <th>10</th>\n",
              "      <th>...</th>\n",
              "      <th>3943</th>\n",
              "      <th>3944</th>\n",
              "      <th>3945</th>\n",
              "      <th>3946</th>\n",
              "      <th>3947</th>\n",
              "      <th>3948</th>\n",
              "      <th>3949</th>\n",
              "      <th>3950</th>\n",
              "      <th>3951</th>\n",
              "      <th>3952</th>\n",
              "    </tr>\n",
              "    <tr>\n",
              "      <th>user_id</th>\n",
              "      <th></th>\n",
              "      <th></th>\n",
              "      <th></th>\n",
              "      <th></th>\n",
              "      <th></th>\n",
              "      <th></th>\n",
              "      <th></th>\n",
              "      <th></th>\n",
              "      <th></th>\n",
              "      <th></th>\n",
              "      <th></th>\n",
              "      <th></th>\n",
              "      <th></th>\n",
              "      <th></th>\n",
              "      <th></th>\n",
              "      <th></th>\n",
              "      <th></th>\n",
              "      <th></th>\n",
              "      <th></th>\n",
              "      <th></th>\n",
              "      <th></th>\n",
              "    </tr>\n",
              "  </thead>\n",
              "  <tbody>\n",
              "    <tr>\n",
              "      <th>1</th>\n",
              "      <td>5.0</td>\n",
              "      <td>0.0</td>\n",
              "      <td>0.0</td>\n",
              "      <td>0.0</td>\n",
              "      <td>0.0</td>\n",
              "      <td>0.0</td>\n",
              "      <td>0.0</td>\n",
              "      <td>0.0</td>\n",
              "      <td>0.0</td>\n",
              "      <td>0.0</td>\n",
              "      <td>...</td>\n",
              "      <td>0.0</td>\n",
              "      <td>0.0</td>\n",
              "      <td>0.0</td>\n",
              "      <td>0.0</td>\n",
              "      <td>0.0</td>\n",
              "      <td>0.0</td>\n",
              "      <td>0.0</td>\n",
              "      <td>0.0</td>\n",
              "      <td>0.0</td>\n",
              "      <td>0.0</td>\n",
              "    </tr>\n",
              "    <tr>\n",
              "      <th>2</th>\n",
              "      <td>0.0</td>\n",
              "      <td>0.0</td>\n",
              "      <td>0.0</td>\n",
              "      <td>0.0</td>\n",
              "      <td>0.0</td>\n",
              "      <td>0.0</td>\n",
              "      <td>0.0</td>\n",
              "      <td>0.0</td>\n",
              "      <td>0.0</td>\n",
              "      <td>0.0</td>\n",
              "      <td>...</td>\n",
              "      <td>0.0</td>\n",
              "      <td>0.0</td>\n",
              "      <td>0.0</td>\n",
              "      <td>0.0</td>\n",
              "      <td>0.0</td>\n",
              "      <td>0.0</td>\n",
              "      <td>0.0</td>\n",
              "      <td>0.0</td>\n",
              "      <td>0.0</td>\n",
              "      <td>0.0</td>\n",
              "    </tr>\n",
              "    <tr>\n",
              "      <th>3</th>\n",
              "      <td>0.0</td>\n",
              "      <td>0.0</td>\n",
              "      <td>0.0</td>\n",
              "      <td>0.0</td>\n",
              "      <td>0.0</td>\n",
              "      <td>0.0</td>\n",
              "      <td>0.0</td>\n",
              "      <td>0.0</td>\n",
              "      <td>0.0</td>\n",
              "      <td>0.0</td>\n",
              "      <td>...</td>\n",
              "      <td>0.0</td>\n",
              "      <td>0.0</td>\n",
              "      <td>0.0</td>\n",
              "      <td>0.0</td>\n",
              "      <td>0.0</td>\n",
              "      <td>0.0</td>\n",
              "      <td>0.0</td>\n",
              "      <td>0.0</td>\n",
              "      <td>0.0</td>\n",
              "      <td>0.0</td>\n",
              "    </tr>\n",
              "    <tr>\n",
              "      <th>4</th>\n",
              "      <td>0.0</td>\n",
              "      <td>0.0</td>\n",
              "      <td>0.0</td>\n",
              "      <td>0.0</td>\n",
              "      <td>0.0</td>\n",
              "      <td>0.0</td>\n",
              "      <td>0.0</td>\n",
              "      <td>0.0</td>\n",
              "      <td>0.0</td>\n",
              "      <td>0.0</td>\n",
              "      <td>...</td>\n",
              "      <td>0.0</td>\n",
              "      <td>0.0</td>\n",
              "      <td>0.0</td>\n",
              "      <td>0.0</td>\n",
              "      <td>0.0</td>\n",
              "      <td>0.0</td>\n",
              "      <td>0.0</td>\n",
              "      <td>0.0</td>\n",
              "      <td>0.0</td>\n",
              "      <td>0.0</td>\n",
              "    </tr>\n",
              "    <tr>\n",
              "      <th>5</th>\n",
              "      <td>0.0</td>\n",
              "      <td>0.0</td>\n",
              "      <td>0.0</td>\n",
              "      <td>0.0</td>\n",
              "      <td>0.0</td>\n",
              "      <td>2.0</td>\n",
              "      <td>0.0</td>\n",
              "      <td>0.0</td>\n",
              "      <td>0.0</td>\n",
              "      <td>0.0</td>\n",
              "      <td>...</td>\n",
              "      <td>0.0</td>\n",
              "      <td>0.0</td>\n",
              "      <td>0.0</td>\n",
              "      <td>0.0</td>\n",
              "      <td>0.0</td>\n",
              "      <td>0.0</td>\n",
              "      <td>0.0</td>\n",
              "      <td>0.0</td>\n",
              "      <td>0.0</td>\n",
              "      <td>0.0</td>\n",
              "    </tr>\n",
              "  </tbody>\n",
              "</table>\n",
              "<p>5 rows × 3706 columns</p>\n",
              "</div>"
            ],
            "text/plain": [
              "movie_id  1     2     3     4     5     6     7     8     9     10    ...  \\\n",
              "user_id                                                               ...   \n",
              "1          5.0   0.0   0.0   0.0   0.0   0.0   0.0   0.0   0.0   0.0  ...   \n",
              "2          0.0   0.0   0.0   0.0   0.0   0.0   0.0   0.0   0.0   0.0  ...   \n",
              "3          0.0   0.0   0.0   0.0   0.0   0.0   0.0   0.0   0.0   0.0  ...   \n",
              "4          0.0   0.0   0.0   0.0   0.0   0.0   0.0   0.0   0.0   0.0  ...   \n",
              "5          0.0   0.0   0.0   0.0   0.0   2.0   0.0   0.0   0.0   0.0  ...   \n",
              "\n",
              "movie_id  3943  3944  3945  3946  3947  3948  3949  3950  3951  3952  \n",
              "user_id                                                               \n",
              "1          0.0   0.0   0.0   0.0   0.0   0.0   0.0   0.0   0.0   0.0  \n",
              "2          0.0   0.0   0.0   0.0   0.0   0.0   0.0   0.0   0.0   0.0  \n",
              "3          0.0   0.0   0.0   0.0   0.0   0.0   0.0   0.0   0.0   0.0  \n",
              "4          0.0   0.0   0.0   0.0   0.0   0.0   0.0   0.0   0.0   0.0  \n",
              "5          0.0   0.0   0.0   0.0   0.0   0.0   0.0   0.0   0.0   0.0  \n",
              "\n",
              "[5 rows x 3706 columns]"
            ]
          },
          "execution_count": 21,
          "metadata": {},
          "output_type": "execute_result"
        }
      ],
      "source": [
        "Ratings = ratings.pivot(index = 'user_id', columns ='movie_id', values = 'rating').fillna(0)\n",
        "Ratings.head()"
      ]
    },
    {
      "cell_type": "code",
      "execution_count": 22,
      "metadata": {
        "id": "Ue3HMeeX-XVz"
      },
      "outputs": [],
      "source": [
        "# calculate rating matrix\n",
        "R = Ratings.to_numpy()"
      ]
    },
    {
      "cell_type": "code",
      "execution_count": 23,
      "metadata": {
        "id": "Cto_bTMN08Uu"
      },
      "outputs": [],
      "source": [
        "from scipy.sparse.linalg import svds\n",
        "\n",
        "U, sigma, Vt = svds(R, k = 100)\n",
        "sigma = np.diag(sigma)"
      ]
    },
    {
      "cell_type": "code",
      "execution_count": 24,
      "metadata": {
        "id": "lEdVW5cG-8CM"
      },
      "outputs": [],
      "source": [
        "all_user_predicted_ratings = U @ sigma @ Vt"
      ]
    },
    {
      "cell_type": "code",
      "execution_count": 25,
      "metadata": {
        "colab": {
          "base_uri": "https://localhost:8080/",
          "height": 255
        },
        "id": "QEiw1_bA_AUT",
        "outputId": "7bbc6752-1c64-44eb-8056-933b5e313ca9"
      },
      "outputs": [
        {
          "data": {
            "text/html": [
              "<div>\n",
              "<style scoped>\n",
              "    .dataframe tbody tr th:only-of-type {\n",
              "        vertical-align: middle;\n",
              "    }\n",
              "\n",
              "    .dataframe tbody tr th {\n",
              "        vertical-align: top;\n",
              "    }\n",
              "\n",
              "    .dataframe thead th {\n",
              "        text-align: right;\n",
              "    }\n",
              "</style>\n",
              "<table border=\"1\" class=\"dataframe\">\n",
              "  <thead>\n",
              "    <tr style=\"text-align: right;\">\n",
              "      <th>movie_id</th>\n",
              "      <th>1</th>\n",
              "      <th>2</th>\n",
              "      <th>3</th>\n",
              "      <th>4</th>\n",
              "      <th>5</th>\n",
              "      <th>6</th>\n",
              "      <th>7</th>\n",
              "      <th>8</th>\n",
              "      <th>9</th>\n",
              "      <th>10</th>\n",
              "      <th>...</th>\n",
              "      <th>3943</th>\n",
              "      <th>3944</th>\n",
              "      <th>3945</th>\n",
              "      <th>3946</th>\n",
              "      <th>3947</th>\n",
              "      <th>3948</th>\n",
              "      <th>3949</th>\n",
              "      <th>3950</th>\n",
              "      <th>3951</th>\n",
              "      <th>3952</th>\n",
              "    </tr>\n",
              "  </thead>\n",
              "  <tbody>\n",
              "    <tr>\n",
              "      <th>0</th>\n",
              "      <td>5.132589</td>\n",
              "      <td>0.168593</td>\n",
              "      <td>0.354256</td>\n",
              "      <td>-0.025984</td>\n",
              "      <td>0.146412</td>\n",
              "      <td>-0.124057</td>\n",
              "      <td>-0.061609</td>\n",
              "      <td>0.079215</td>\n",
              "      <td>0.025162</td>\n",
              "      <td>-0.364816</td>\n",
              "      <td>...</td>\n",
              "      <td>-0.102774</td>\n",
              "      <td>0.008839</td>\n",
              "      <td>0.028378</td>\n",
              "      <td>-0.096139</td>\n",
              "      <td>-0.042566</td>\n",
              "      <td>0.007125</td>\n",
              "      <td>-0.112891</td>\n",
              "      <td>0.017840</td>\n",
              "      <td>0.081946</td>\n",
              "      <td>-0.192445</td>\n",
              "    </tr>\n",
              "    <tr>\n",
              "      <th>1</th>\n",
              "      <td>0.527079</td>\n",
              "      <td>0.278227</td>\n",
              "      <td>0.076380</td>\n",
              "      <td>-0.021186</td>\n",
              "      <td>0.036919</td>\n",
              "      <td>1.129623</td>\n",
              "      <td>-0.053878</td>\n",
              "      <td>0.119751</td>\n",
              "      <td>0.095301</td>\n",
              "      <td>1.710964</td>\n",
              "      <td>...</td>\n",
              "      <td>0.004399</td>\n",
              "      <td>-0.010270</td>\n",
              "      <td>-0.021023</td>\n",
              "      <td>0.078350</td>\n",
              "      <td>-0.008892</td>\n",
              "      <td>-0.431597</td>\n",
              "      <td>-0.238003</td>\n",
              "      <td>-0.008461</td>\n",
              "      <td>0.035765</td>\n",
              "      <td>0.036354</td>\n",
              "    </tr>\n",
              "    <tr>\n",
              "      <th>2</th>\n",
              "      <td>2.158835</td>\n",
              "      <td>0.384824</td>\n",
              "      <td>0.298305</td>\n",
              "      <td>-0.117883</td>\n",
              "      <td>-0.003051</td>\n",
              "      <td>0.096564</td>\n",
              "      <td>-0.008272</td>\n",
              "      <td>0.074512</td>\n",
              "      <td>-0.009878</td>\n",
              "      <td>1.075564</td>\n",
              "      <td>...</td>\n",
              "      <td>0.053171</td>\n",
              "      <td>0.007187</td>\n",
              "      <td>0.042976</td>\n",
              "      <td>0.069483</td>\n",
              "      <td>0.040690</td>\n",
              "      <td>0.014647</td>\n",
              "      <td>0.173379</td>\n",
              "      <td>0.076715</td>\n",
              "      <td>0.047036</td>\n",
              "      <td>-0.239905</td>\n",
              "    </tr>\n",
              "    <tr>\n",
              "      <th>3</th>\n",
              "      <td>0.170102</td>\n",
              "      <td>0.139338</td>\n",
              "      <td>0.049499</td>\n",
              "      <td>0.040963</td>\n",
              "      <td>-0.008043</td>\n",
              "      <td>0.282204</td>\n",
              "      <td>-0.054760</td>\n",
              "      <td>-0.003053</td>\n",
              "      <td>0.011237</td>\n",
              "      <td>-0.416429</td>\n",
              "      <td>...</td>\n",
              "      <td>-0.048642</td>\n",
              "      <td>-0.003518</td>\n",
              "      <td>0.013642</td>\n",
              "      <td>-0.002003</td>\n",
              "      <td>-0.031724</td>\n",
              "      <td>-0.185492</td>\n",
              "      <td>0.015460</td>\n",
              "      <td>-0.036204</td>\n",
              "      <td>-0.009392</td>\n",
              "      <td>-0.129042</td>\n",
              "    </tr>\n",
              "    <tr>\n",
              "      <th>4</th>\n",
              "      <td>0.374352</td>\n",
              "      <td>-0.418232</td>\n",
              "      <td>-0.022549</td>\n",
              "      <td>0.160691</td>\n",
              "      <td>-0.242144</td>\n",
              "      <td>1.526043</td>\n",
              "      <td>-0.135583</td>\n",
              "      <td>-0.071767</td>\n",
              "      <td>-0.139569</td>\n",
              "      <td>0.070673</td>\n",
              "      <td>...</td>\n",
              "      <td>0.026708</td>\n",
              "      <td>0.018442</td>\n",
              "      <td>-0.039586</td>\n",
              "      <td>-0.114310</td>\n",
              "      <td>-0.129007</td>\n",
              "      <td>-0.562672</td>\n",
              "      <td>0.229044</td>\n",
              "      <td>-0.085522</td>\n",
              "      <td>0.075491</td>\n",
              "      <td>0.013107</td>\n",
              "    </tr>\n",
              "  </tbody>\n",
              "</table>\n",
              "<p>5 rows × 3706 columns</p>\n",
              "</div>"
            ],
            "text/plain": [
              "movie_id      1         2         3         4         5         6     \\\n",
              "0         5.132589  0.168593  0.354256 -0.025984  0.146412 -0.124057   \n",
              "1         0.527079  0.278227  0.076380 -0.021186  0.036919  1.129623   \n",
              "2         2.158835  0.384824  0.298305 -0.117883 -0.003051  0.096564   \n",
              "3         0.170102  0.139338  0.049499  0.040963 -0.008043  0.282204   \n",
              "4         0.374352 -0.418232 -0.022549  0.160691 -0.242144  1.526043   \n",
              "\n",
              "movie_id      7         8         9         10    ...      3943      3944  \\\n",
              "0        -0.061609  0.079215  0.025162 -0.364816  ... -0.102774  0.008839   \n",
              "1        -0.053878  0.119751  0.095301  1.710964  ...  0.004399 -0.010270   \n",
              "2        -0.008272  0.074512 -0.009878  1.075564  ...  0.053171  0.007187   \n",
              "3        -0.054760 -0.003053  0.011237 -0.416429  ... -0.048642 -0.003518   \n",
              "4        -0.135583 -0.071767 -0.139569  0.070673  ...  0.026708  0.018442   \n",
              "\n",
              "movie_id      3945      3946      3947      3948      3949      3950  \\\n",
              "0         0.028378 -0.096139 -0.042566  0.007125 -0.112891  0.017840   \n",
              "1        -0.021023  0.078350 -0.008892 -0.431597 -0.238003 -0.008461   \n",
              "2         0.042976  0.069483  0.040690  0.014647  0.173379  0.076715   \n",
              "3         0.013642 -0.002003 -0.031724 -0.185492  0.015460 -0.036204   \n",
              "4        -0.039586 -0.114310 -0.129007 -0.562672  0.229044 -0.085522   \n",
              "\n",
              "movie_id      3951      3952  \n",
              "0         0.081946 -0.192445  \n",
              "1         0.035765  0.036354  \n",
              "2         0.047036 -0.239905  \n",
              "3        -0.009392 -0.129042  \n",
              "4         0.075491  0.013107  \n",
              "\n",
              "[5 rows x 3706 columns]"
            ]
          },
          "execution_count": 25,
          "metadata": {},
          "output_type": "execute_result"
        }
      ],
      "source": [
        "preds = pd.DataFrame(all_user_predicted_ratings, columns = Ratings.columns)\n",
        "preds.head()"
      ]
    },
    {
      "cell_type": "code",
      "execution_count": 26,
      "metadata": {
        "id": "tGNw2vZe_Hnb"
      },
      "outputs": [],
      "source": [
        "def recommend_movies(predictions, userID, movies, original_ratings, num_recommendations):\n",
        "\n",
        "    user_row_number = userID - 1 # User ID starts at 1, not 0\n",
        "    sorted_user_predictions = predictions.iloc[user_row_number].sort_values(ascending=False)\n",
        "\n",
        "    user_data = original_ratings[original_ratings.user_id == (userID)]\n",
        "\n",
        "    # merfe movies data with user_data\n",
        "    user_full = (user_data.merge(movies, how = 'left', left_on = 'movie_id', right_on = 'movie_id').\n",
        "                     sort_values(['rating'], ascending=False)\n",
        "                 )\n",
        "\n",
        "\n",
        "    print(f'User {userID} has already rated {user_full.shape[0]} movies.')\n",
        "    print(f'Recommending highest {num_recommendations} predicted ratings movies not already rated.')\n",
        "\n",
        "    recommendations = (movies[~movies['movie_id'].isin(user_full['movie_id'])].\n",
        "         merge(pd.DataFrame(sorted_user_predictions).reset_index(), how = 'left',\n",
        "               left_on = 'movie_id',\n",
        "               right_on = 'movie_id').\n",
        "         rename(columns = {user_row_number: 'Predictions'}).\n",
        "         sort_values('Predictions', ascending = False).\n",
        "                       iloc[:num_recommendations, :-1]\n",
        "                      )\n",
        "\n",
        "    return user_full, recommendations"
      ]
    },
    {
      "cell_type": "code",
      "execution_count": 27,
      "metadata": {
        "colab": {
          "base_uri": "https://localhost:8080/"
        },
        "id": "hzz8KwhR_PPD",
        "outputId": "31262e36-c7c6-43ad-8ff5-0e3b2bbacccc"
      },
      "outputs": [
        {
          "name": "stdout",
          "output_type": "stream",
          "text": [
            "User 4375 has already rated 325 movies.\n",
            "Recommending highest 20 predicted ratings movies not already rated.\n"
          ]
        }
      ],
      "source": [
        "already_rated, predictions = recommend_movies(preds, 4375, movies, ratings, 20)"
      ]
    },
    {
      "cell_type": "code",
      "execution_count": 28,
      "metadata": {
        "colab": {
          "base_uri": "https://localhost:8080/",
          "height": 676
        },
        "id": "hwgZ2-RCAOgb",
        "outputId": "758489af-38d3-42f8-ae42-dc3003f9e5b6"
      },
      "outputs": [
        {
          "data": {
            "text/html": [
              "<div>\n",
              "<style scoped>\n",
              "    .dataframe tbody tr th:only-of-type {\n",
              "        vertical-align: middle;\n",
              "    }\n",
              "\n",
              "    .dataframe tbody tr th {\n",
              "        vertical-align: top;\n",
              "    }\n",
              "\n",
              "    .dataframe thead th {\n",
              "        text-align: right;\n",
              "    }\n",
              "</style>\n",
              "<table border=\"1\" class=\"dataframe\">\n",
              "  <thead>\n",
              "    <tr style=\"text-align: right;\">\n",
              "      <th></th>\n",
              "      <th>user_id</th>\n",
              "      <th>movie_id</th>\n",
              "      <th>rating</th>\n",
              "      <th>user_emb_id</th>\n",
              "      <th>movie_emb_id</th>\n",
              "    </tr>\n",
              "  </thead>\n",
              "  <tbody>\n",
              "    <tr>\n",
              "      <th>0</th>\n",
              "      <td>1</td>\n",
              "      <td>1193</td>\n",
              "      <td>5</td>\n",
              "      <td>0</td>\n",
              "      <td>1192</td>\n",
              "    </tr>\n",
              "    <tr>\n",
              "      <th>1</th>\n",
              "      <td>1</td>\n",
              "      <td>661</td>\n",
              "      <td>3</td>\n",
              "      <td>0</td>\n",
              "      <td>660</td>\n",
              "    </tr>\n",
              "    <tr>\n",
              "      <th>2</th>\n",
              "      <td>1</td>\n",
              "      <td>914</td>\n",
              "      <td>3</td>\n",
              "      <td>0</td>\n",
              "      <td>913</td>\n",
              "    </tr>\n",
              "    <tr>\n",
              "      <th>3</th>\n",
              "      <td>1</td>\n",
              "      <td>3408</td>\n",
              "      <td>4</td>\n",
              "      <td>0</td>\n",
              "      <td>3407</td>\n",
              "    </tr>\n",
              "    <tr>\n",
              "      <th>4</th>\n",
              "      <td>1</td>\n",
              "      <td>2355</td>\n",
              "      <td>5</td>\n",
              "      <td>0</td>\n",
              "      <td>2354</td>\n",
              "    </tr>\n",
              "    <tr>\n",
              "      <th>5</th>\n",
              "      <td>1</td>\n",
              "      <td>1197</td>\n",
              "      <td>3</td>\n",
              "      <td>0</td>\n",
              "      <td>1196</td>\n",
              "    </tr>\n",
              "    <tr>\n",
              "      <th>6</th>\n",
              "      <td>1</td>\n",
              "      <td>1287</td>\n",
              "      <td>5</td>\n",
              "      <td>0</td>\n",
              "      <td>1286</td>\n",
              "    </tr>\n",
              "    <tr>\n",
              "      <th>7</th>\n",
              "      <td>1</td>\n",
              "      <td>2804</td>\n",
              "      <td>5</td>\n",
              "      <td>0</td>\n",
              "      <td>2803</td>\n",
              "    </tr>\n",
              "    <tr>\n",
              "      <th>8</th>\n",
              "      <td>1</td>\n",
              "      <td>594</td>\n",
              "      <td>4</td>\n",
              "      <td>0</td>\n",
              "      <td>593</td>\n",
              "    </tr>\n",
              "    <tr>\n",
              "      <th>9</th>\n",
              "      <td>1</td>\n",
              "      <td>919</td>\n",
              "      <td>4</td>\n",
              "      <td>0</td>\n",
              "      <td>918</td>\n",
              "    </tr>\n",
              "    <tr>\n",
              "      <th>10</th>\n",
              "      <td>1</td>\n",
              "      <td>595</td>\n",
              "      <td>5</td>\n",
              "      <td>0</td>\n",
              "      <td>594</td>\n",
              "    </tr>\n",
              "    <tr>\n",
              "      <th>11</th>\n",
              "      <td>1</td>\n",
              "      <td>938</td>\n",
              "      <td>4</td>\n",
              "      <td>0</td>\n",
              "      <td>937</td>\n",
              "    </tr>\n",
              "    <tr>\n",
              "      <th>12</th>\n",
              "      <td>1</td>\n",
              "      <td>2398</td>\n",
              "      <td>4</td>\n",
              "      <td>0</td>\n",
              "      <td>2397</td>\n",
              "    </tr>\n",
              "    <tr>\n",
              "      <th>13</th>\n",
              "      <td>1</td>\n",
              "      <td>2918</td>\n",
              "      <td>4</td>\n",
              "      <td>0</td>\n",
              "      <td>2917</td>\n",
              "    </tr>\n",
              "    <tr>\n",
              "      <th>14</th>\n",
              "      <td>1</td>\n",
              "      <td>1035</td>\n",
              "      <td>5</td>\n",
              "      <td>0</td>\n",
              "      <td>1034</td>\n",
              "    </tr>\n",
              "    <tr>\n",
              "      <th>15</th>\n",
              "      <td>1</td>\n",
              "      <td>2791</td>\n",
              "      <td>4</td>\n",
              "      <td>0</td>\n",
              "      <td>2790</td>\n",
              "    </tr>\n",
              "    <tr>\n",
              "      <th>16</th>\n",
              "      <td>1</td>\n",
              "      <td>2687</td>\n",
              "      <td>3</td>\n",
              "      <td>0</td>\n",
              "      <td>2686</td>\n",
              "    </tr>\n",
              "    <tr>\n",
              "      <th>17</th>\n",
              "      <td>1</td>\n",
              "      <td>2018</td>\n",
              "      <td>4</td>\n",
              "      <td>0</td>\n",
              "      <td>2017</td>\n",
              "    </tr>\n",
              "    <tr>\n",
              "      <th>18</th>\n",
              "      <td>1</td>\n",
              "      <td>3105</td>\n",
              "      <td>5</td>\n",
              "      <td>0</td>\n",
              "      <td>3104</td>\n",
              "    </tr>\n",
              "    <tr>\n",
              "      <th>19</th>\n",
              "      <td>1</td>\n",
              "      <td>2797</td>\n",
              "      <td>4</td>\n",
              "      <td>0</td>\n",
              "      <td>2796</td>\n",
              "    </tr>\n",
              "  </tbody>\n",
              "</table>\n",
              "</div>"
            ],
            "text/plain": [
              "    user_id  movie_id  rating  user_emb_id  movie_emb_id\n",
              "0         1      1193       5            0          1192\n",
              "1         1       661       3            0           660\n",
              "2         1       914       3            0           913\n",
              "3         1      3408       4            0          3407\n",
              "4         1      2355       5            0          2354\n",
              "5         1      1197       3            0          1196\n",
              "6         1      1287       5            0          1286\n",
              "7         1      2804       5            0          2803\n",
              "8         1       594       4            0           593\n",
              "9         1       919       4            0           918\n",
              "10        1       595       5            0           594\n",
              "11        1       938       4            0           937\n",
              "12        1      2398       4            0          2397\n",
              "13        1      2918       4            0          2917\n",
              "14        1      1035       5            0          1034\n",
              "15        1      2791       4            0          2790\n",
              "16        1      2687       3            0          2686\n",
              "17        1      2018       4            0          2017\n",
              "18        1      3105       5            0          3104\n",
              "19        1      2797       4            0          2796"
            ]
          },
          "execution_count": 28,
          "metadata": {},
          "output_type": "execute_result"
        }
      ],
      "source": [
        "ratings.head(20)"
      ]
    },
    {
      "cell_type": "code",
      "execution_count": 29,
      "metadata": {
        "colab": {
          "base_uri": "https://localhost:8080/",
          "height": 676
        },
        "id": "wXy5tpV5_Qu0",
        "outputId": "6490fde7-f208-4c33-f1bd-a4e4ca8979a0"
      },
      "outputs": [
        {
          "data": {
            "text/html": [
              "<div>\n",
              "<style scoped>\n",
              "    .dataframe tbody tr th:only-of-type {\n",
              "        vertical-align: middle;\n",
              "    }\n",
              "\n",
              "    .dataframe tbody tr th {\n",
              "        vertical-align: top;\n",
              "    }\n",
              "\n",
              "    .dataframe thead th {\n",
              "        text-align: right;\n",
              "    }\n",
              "</style>\n",
              "<table border=\"1\" class=\"dataframe\">\n",
              "  <thead>\n",
              "    <tr style=\"text-align: right;\">\n",
              "      <th></th>\n",
              "      <th>user_id</th>\n",
              "      <th>movie_id</th>\n",
              "      <th>rating</th>\n",
              "      <th>user_emb_id</th>\n",
              "      <th>movie_emb_id</th>\n",
              "      <th>title</th>\n",
              "      <th>genres</th>\n",
              "    </tr>\n",
              "  </thead>\n",
              "  <tbody>\n",
              "    <tr>\n",
              "      <th>195</th>\n",
              "      <td>4375</td>\n",
              "      <td>3250</td>\n",
              "      <td>5</td>\n",
              "      <td>4374</td>\n",
              "      <td>3249</td>\n",
              "      <td>Alive (1993)</td>\n",
              "      <td>Drama</td>\n",
              "    </tr>\n",
              "    <tr>\n",
              "      <th>285</th>\n",
              "      <td>4375</td>\n",
              "      <td>175</td>\n",
              "      <td>5</td>\n",
              "      <td>4374</td>\n",
              "      <td>174</td>\n",
              "      <td>Kids (1995)</td>\n",
              "      <td>Drama</td>\n",
              "    </tr>\n",
              "    <tr>\n",
              "      <th>199</th>\n",
              "      <td>4375</td>\n",
              "      <td>3257</td>\n",
              "      <td>5</td>\n",
              "      <td>4374</td>\n",
              "      <td>3256</td>\n",
              "      <td>Bodyguard, The (1992)</td>\n",
              "      <td>Action|Drama|Romance|Thriller</td>\n",
              "    </tr>\n",
              "    <tr>\n",
              "      <th>65</th>\n",
              "      <td>4375</td>\n",
              "      <td>3809</td>\n",
              "      <td>5</td>\n",
              "      <td>4374</td>\n",
              "      <td>3808</td>\n",
              "      <td>What About Bob? (1991)</td>\n",
              "      <td>Comedy</td>\n",
              "    </tr>\n",
              "    <tr>\n",
              "      <th>210</th>\n",
              "      <td>4375</td>\n",
              "      <td>2688</td>\n",
              "      <td>5</td>\n",
              "      <td>4374</td>\n",
              "      <td>2687</td>\n",
              "      <td>General's Daughter, The (1999)</td>\n",
              "      <td>Drama|Thriller</td>\n",
              "    </tr>\n",
              "    <tr>\n",
              "      <th>270</th>\n",
              "      <td>4375</td>\n",
              "      <td>150</td>\n",
              "      <td>5</td>\n",
              "      <td>4374</td>\n",
              "      <td>149</td>\n",
              "      <td>Apollo 13 (1995)</td>\n",
              "      <td>Drama</td>\n",
              "    </tr>\n",
              "    <tr>\n",
              "      <th>271</th>\n",
              "      <td>4375</td>\n",
              "      <td>2710</td>\n",
              "      <td>5</td>\n",
              "      <td>4374</td>\n",
              "      <td>2709</td>\n",
              "      <td>Blair Witch Project, The (1999)</td>\n",
              "      <td>Horror</td>\n",
              "    </tr>\n",
              "    <tr>\n",
              "      <th>125</th>\n",
              "      <td>4375</td>\n",
              "      <td>349</td>\n",
              "      <td>5</td>\n",
              "      <td>4374</td>\n",
              "      <td>348</td>\n",
              "      <td>Clear and Present Danger (1994)</td>\n",
              "      <td>Action|Adventure|Thriller</td>\n",
              "    </tr>\n",
              "    <tr>\n",
              "      <th>60</th>\n",
              "      <td>4375</td>\n",
              "      <td>288</td>\n",
              "      <td>5</td>\n",
              "      <td>4374</td>\n",
              "      <td>287</td>\n",
              "      <td>Natural Born Killers (1994)</td>\n",
              "      <td>Action|Thriller</td>\n",
              "    </tr>\n",
              "    <tr>\n",
              "      <th>141</th>\n",
              "      <td>4375</td>\n",
              "      <td>47</td>\n",
              "      <td>5</td>\n",
              "      <td>4374</td>\n",
              "      <td>46</td>\n",
              "      <td>Seven (Se7en) (1995)</td>\n",
              "      <td>Crime|Thriller</td>\n",
              "    </tr>\n",
              "    <tr>\n",
              "      <th>237</th>\n",
              "      <td>4375</td>\n",
              "      <td>1347</td>\n",
              "      <td>5</td>\n",
              "      <td>4374</td>\n",
              "      <td>1346</td>\n",
              "      <td>Nightmare on Elm Street, A (1984)</td>\n",
              "      <td>Horror</td>\n",
              "    </tr>\n",
              "    <tr>\n",
              "      <th>57</th>\n",
              "      <td>4375</td>\n",
              "      <td>3499</td>\n",
              "      <td>5</td>\n",
              "      <td>4374</td>\n",
              "      <td>3498</td>\n",
              "      <td>Misery (1990)</td>\n",
              "      <td>Horror</td>\n",
              "    </tr>\n",
              "    <tr>\n",
              "      <th>143</th>\n",
              "      <td>4375</td>\n",
              "      <td>1982</td>\n",
              "      <td>5</td>\n",
              "      <td>4374</td>\n",
              "      <td>1981</td>\n",
              "      <td>Halloween (1978)</td>\n",
              "      <td>Horror</td>\n",
              "    </tr>\n",
              "    <tr>\n",
              "      <th>277</th>\n",
              "      <td>4375</td>\n",
              "      <td>165</td>\n",
              "      <td>5</td>\n",
              "      <td>4374</td>\n",
              "      <td>164</td>\n",
              "      <td>Die Hard: With a Vengeance (1995)</td>\n",
              "      <td>Action|Thriller</td>\n",
              "    </tr>\n",
              "    <tr>\n",
              "      <th>54</th>\n",
              "      <td>4375</td>\n",
              "      <td>1888</td>\n",
              "      <td>5</td>\n",
              "      <td>4374</td>\n",
              "      <td>1887</td>\n",
              "      <td>Hope Floats (1998)</td>\n",
              "      <td>Comedy|Drama|Romance</td>\n",
              "    </tr>\n",
              "    <tr>\n",
              "      <th>53</th>\n",
              "      <td>4375</td>\n",
              "      <td>267</td>\n",
              "      <td>5</td>\n",
              "      <td>4374</td>\n",
              "      <td>266</td>\n",
              "      <td>Major Payne (1994)</td>\n",
              "      <td>Comedy</td>\n",
              "    </tr>\n",
              "    <tr>\n",
              "      <th>144</th>\n",
              "      <td>4375</td>\n",
              "      <td>1983</td>\n",
              "      <td>5</td>\n",
              "      <td>4374</td>\n",
              "      <td>1982</td>\n",
              "      <td>Halloween II (1981)</td>\n",
              "      <td>Horror</td>\n",
              "    </tr>\n",
              "    <tr>\n",
              "      <th>51</th>\n",
              "      <td>4375</td>\n",
              "      <td>253</td>\n",
              "      <td>5</td>\n",
              "      <td>4374</td>\n",
              "      <td>252</td>\n",
              "      <td>Interview with the Vampire (1994)</td>\n",
              "      <td>Drama|Horror</td>\n",
              "    </tr>\n",
              "    <tr>\n",
              "      <th>50</th>\n",
              "      <td>4375</td>\n",
              "      <td>2803</td>\n",
              "      <td>5</td>\n",
              "      <td>4374</td>\n",
              "      <td>2802</td>\n",
              "      <td>Pelican Brief, The (1993)</td>\n",
              "      <td>Thriller</td>\n",
              "    </tr>\n",
              "    <tr>\n",
              "      <th>280</th>\n",
              "      <td>4375</td>\n",
              "      <td>3386</td>\n",
              "      <td>5</td>\n",
              "      <td>4374</td>\n",
              "      <td>3385</td>\n",
              "      <td>JFK (1991)</td>\n",
              "      <td>Drama|Mystery</td>\n",
              "    </tr>\n",
              "  </tbody>\n",
              "</table>\n",
              "</div>"
            ],
            "text/plain": [
              "     user_id  movie_id  rating  user_emb_id  movie_emb_id  \\\n",
              "195     4375      3250       5         4374          3249   \n",
              "285     4375       175       5         4374           174   \n",
              "199     4375      3257       5         4374          3256   \n",
              "65      4375      3809       5         4374          3808   \n",
              "210     4375      2688       5         4374          2687   \n",
              "270     4375       150       5         4374           149   \n",
              "271     4375      2710       5         4374          2709   \n",
              "125     4375       349       5         4374           348   \n",
              "60      4375       288       5         4374           287   \n",
              "141     4375        47       5         4374            46   \n",
              "237     4375      1347       5         4374          1346   \n",
              "57      4375      3499       5         4374          3498   \n",
              "143     4375      1982       5         4374          1981   \n",
              "277     4375       165       5         4374           164   \n",
              "54      4375      1888       5         4374          1887   \n",
              "53      4375       267       5         4374           266   \n",
              "144     4375      1983       5         4374          1982   \n",
              "51      4375       253       5         4374           252   \n",
              "50      4375      2803       5         4374          2802   \n",
              "280     4375      3386       5         4374          3385   \n",
              "\n",
              "                                 title                         genres  \n",
              "195                       Alive (1993)                          Drama  \n",
              "285                        Kids (1995)                          Drama  \n",
              "199              Bodyguard, The (1992)  Action|Drama|Romance|Thriller  \n",
              "65              What About Bob? (1991)                         Comedy  \n",
              "210     General's Daughter, The (1999)                 Drama|Thriller  \n",
              "270                   Apollo 13 (1995)                          Drama  \n",
              "271    Blair Witch Project, The (1999)                         Horror  \n",
              "125    Clear and Present Danger (1994)      Action|Adventure|Thriller  \n",
              "60         Natural Born Killers (1994)                Action|Thriller  \n",
              "141               Seven (Se7en) (1995)                 Crime|Thriller  \n",
              "237  Nightmare on Elm Street, A (1984)                         Horror  \n",
              "57                       Misery (1990)                         Horror  \n",
              "143                   Halloween (1978)                         Horror  \n",
              "277  Die Hard: With a Vengeance (1995)                Action|Thriller  \n",
              "54                  Hope Floats (1998)           Comedy|Drama|Romance  \n",
              "53                  Major Payne (1994)                         Comedy  \n",
              "144                Halloween II (1981)                         Horror  \n",
              "51   Interview with the Vampire (1994)                   Drama|Horror  \n",
              "50           Pelican Brief, The (1993)                       Thriller  \n",
              "280                         JFK (1991)                  Drama|Mystery  "
            ]
          },
          "execution_count": 29,
          "metadata": {},
          "output_type": "execute_result"
        }
      ],
      "source": [
        "# Top 20 movies that User 4375 has rated\n",
        "already_rated.head(20)"
      ]
    },
    {
      "cell_type": "markdown",
      "metadata": {
        "id": "t5g9DqGv00wK"
      },
      "source": [
        "#### Evaluation"
      ]
    },
    {
      "cell_type": "code",
      "execution_count": 30,
      "metadata": {
        "colab": {
          "base_uri": "https://localhost:8080/"
        },
        "id": "XL1O76fF4w-D",
        "outputId": "f632c245-fea9-4eb9-f375-6458c7b49b97"
      },
      "outputs": [
        {
          "name": "stdout",
          "output_type": "stream",
          "text": [
            "Root Mean Squared Error: 3.663715707050373\n"
          ]
        }
      ],
      "source": [
        "from sklearn.model_selection import train_test_split\n",
        "from sklearn.metrics import mean_squared_error\n",
        "from math import sqrt\n",
        "\n",
        "train_data, test_data = train_test_split(ratings, test_size=0.2)\n",
        "\n",
        "train_ratings = train_data.pivot(index = 'user_id', columns ='movie_id', values = 'rating').fillna(0)\n",
        "R_train = train_ratings.values\n",
        "\n",
        "U_train, sigma_train, Vt_train = svds(R_train, k = 50)\n",
        "sigma_train = np.diag(sigma_train)\n",
        "\n",
        "all_user_predicted_ratings_train = np.dot(np.dot(U_train, sigma_train), Vt_train)\n",
        "preds_train = pd.DataFrame(all_user_predicted_ratings_train, columns = train_ratings.columns)\n",
        "\n",
        "def predict_rating(user_id, movie_id):\n",
        "    # TODO\n",
        "    user_row_number = user_id\n",
        "    movie_col_number = movie_id\n",
        "    if user_row_number >= preds_train.shape[0] or movie_col_number >= preds_train.shape[1]:\n",
        "        return np.nan\n",
        "    pred = preds_train.iloc[user_row_number, movie_col_number]\n",
        "    return pred\n",
        "\n",
        "test_data['predicted_rating'] = test_data.apply(lambda x: predict_rating(x['user_id'], x['movie_id']), axis=1)\n",
        "\n",
        "test_data.dropna(inplace=True)\n",
        "\n",
        "rmse = sqrt(mean_squared_error(test_data['rating'], test_data['predicted_rating']))\n",
        "print(f'Root Mean Squared Error: {rmse}')"
      ]
    },
    {
      "cell_type": "markdown",
      "metadata": {
        "id": "ASbIipkUgPuh"
      },
      "source": [
        "### Nueral Network Model (Recommender Model)\n",
        "\n"
      ]
    },
    {
      "cell_type": "markdown",
      "metadata": {
        "id": "eOTExLKq3dIl"
      },
      "source": [
        "**Objective**: Implement a Recommender model to recommend movies to a user based on similar users' preferences.\n",
        "\n",
        "**Dataset**:\n",
        "- **Ratings Data**: DataFrame with columns `user_id`, `movie_id`, and `rating`.\n",
        "- **Movies Data**: DataFrame with columns `movie_id`, `title`, and `genres`.\n",
        "\n",
        "**Steps**:\n",
        "\n",
        "1. **Define Dataset and DataLoader**:\n",
        "   - Create a custom PyTorch `Dataset` for ratings.\n",
        "   - Create a DataLoader for batching and shuffling data.\n",
        "\n",
        "2. **Define the Neural Network**:\n",
        "   - Create a neural network with embedding layers for users and movies.\n",
        "\n",
        "3. **Train the Model**:\n",
        "   - Train the model using Mean Squared Error loss and Adam optimizer.\n",
        "   - Save model checkpoints.\n",
        "\n",
        "4. **Evaluate the Model**:\n",
        "   - Calculate RMSE on the entire dataset.\n",
        "\n",
        "5. **Predict Ratings for Unrated Movies**:\n",
        "   - Predict and recommend top 10 unrated movies for a given user."
      ]
    },
    {
      "cell_type": "code",
      "execution_count": 31,
      "metadata": {
        "id": "7eiOWdgZQIeb"
      },
      "outputs": [],
      "source": [
        "from torch.utils.data import Dataset, DataLoader\n",
        "import torch\n",
        "import torch.nn as nn\n",
        "from tqdm import tqdm"
      ]
    },
    {
      "cell_type": "code",
      "execution_count": 32,
      "metadata": {},
      "outputs": [],
      "source": [
        "ratings = pd.read_csv(ratings_path, sep='\\t', encoding='latin-1',\n",
        "                      usecols=['user_id', 'movie_id', 'rating'])\n",
        "\n",
        "movies = pd.read_csv(movies_path, sep='\\t', encoding='latin-1',\n",
        "                     usecols=['movie_id', 'title', 'genres'])"
      ]
    },
    {
      "cell_type": "code",
      "execution_count": 33,
      "metadata": {
        "id": "uBgFFkt16-IO"
      },
      "outputs": [
        {
          "name": "stderr",
          "output_type": "stream",
          "text": [
            "Training\t1/25: 100%|██████████| 3126/3126 [00:17<00:00, 176.99it/s]\n",
            "Evaluation\t1/25: 100%|██████████| 391/391 [00:00<00:00, 740.29it/s]\n"
          ]
        },
        {
          "name": "stdout",
          "output_type": "stream",
          "text": [
            "Epoch\t\t1/25,\tTraining Loss: 1.5567201158612145,\tEvaluation Loss: 0.9680070727248661\n",
            "---------------------------------------------------------------------------------------------------------\n"
          ]
        },
        {
          "name": "stderr",
          "output_type": "stream",
          "text": [
            "Training\t2/25: 100%|██████████| 3126/3126 [00:17<00:00, 177.63it/s]\n",
            "Evaluation\t2/25: 100%|██████████| 391/391 [00:00<00:00, 633.13it/s]\n"
          ]
        },
        {
          "name": "stdout",
          "output_type": "stream",
          "text": [
            "Epoch\t\t2/25,\tTraining Loss: 0.9521280505567071,\tEvaluation Loss: 0.8581563121086299\n",
            "---------------------------------------------------------------------------------------------------------\n"
          ]
        },
        {
          "name": "stderr",
          "output_type": "stream",
          "text": [
            "Training\t3/25: 100%|██████████| 3126/3126 [00:17<00:00, 183.76it/s]\n",
            "Evaluation\t3/25: 100%|██████████| 391/391 [00:00<00:00, 773.42it/s]\n"
          ]
        },
        {
          "name": "stdout",
          "output_type": "stream",
          "text": [
            "Epoch\t\t3/25,\tTraining Loss: 0.8855128618234807,\tEvaluation Loss: 0.8427786547171248\n",
            "---------------------------------------------------------------------------------------------------------\n"
          ]
        },
        {
          "name": "stderr",
          "output_type": "stream",
          "text": [
            "Training\t4/25: 100%|██████████| 3126/3126 [00:16<00:00, 183.90it/s]\n",
            "Evaluation\t4/25: 100%|██████████| 391/391 [00:00<00:00, 643.03it/s]\n"
          ]
        },
        {
          "name": "stdout",
          "output_type": "stream",
          "text": [
            "Epoch\t\t4/25,\tTraining Loss: 0.8637175680682202,\tEvaluation Loss: 0.8412897450553185\n",
            "---------------------------------------------------------------------------------------------------------\n"
          ]
        },
        {
          "name": "stderr",
          "output_type": "stream",
          "text": [
            "Training\t5/25: 100%|██████████| 3126/3126 [00:16<00:00, 184.49it/s]\n",
            "Evaluation\t5/25: 100%|██████████| 391/391 [00:00<00:00, 777.94it/s]\n"
          ]
        },
        {
          "name": "stdout",
          "output_type": "stream",
          "text": [
            "Epoch\t\t5/25,\tTraining Loss: 0.8533483774681621,\tEvaluation Loss: 0.837033633948805\n",
            "---------------------------------------------------------------------------------------------------------\n"
          ]
        },
        {
          "name": "stderr",
          "output_type": "stream",
          "text": [
            "Training\t6/25: 100%|██████████| 3126/3126 [00:17<00:00, 183.27it/s]\n",
            "Evaluation\t6/25: 100%|██████████| 391/391 [00:00<00:00, 642.55it/s]\n"
          ]
        },
        {
          "name": "stdout",
          "output_type": "stream",
          "text": [
            "Epoch\t\t6/25,\tTraining Loss: 0.8452956382645166,\tEvaluation Loss: 0.8328964351747217\n",
            "---------------------------------------------------------------------------------------------------------\n"
          ]
        },
        {
          "name": "stderr",
          "output_type": "stream",
          "text": [
            "Training\t7/25: 100%|██████████| 3126/3126 [00:17<00:00, 180.28it/s]\n",
            "Evaluation\t7/25: 100%|██████████| 391/391 [00:00<00:00, 751.47it/s]\n"
          ]
        },
        {
          "name": "stdout",
          "output_type": "stream",
          "text": [
            "Epoch\t\t7/25,\tTraining Loss: 0.8397684489326298,\tEvaluation Loss: 0.8389199744188974\n",
            "---------------------------------------------------------------------------------------------------------\n"
          ]
        },
        {
          "name": "stderr",
          "output_type": "stream",
          "text": [
            "Training\t8/25: 100%|██████████| 3126/3126 [00:17<00:00, 182.79it/s]\n",
            "Evaluation\t8/25: 100%|██████████| 391/391 [00:00<00:00, 649.45it/s]\n"
          ]
        },
        {
          "name": "stdout",
          "output_type": "stream",
          "text": [
            "Epoch\t\t8/25,\tTraining Loss: 0.8351821365342763,\tEvaluation Loss: 0.8309021728391645\n",
            "---------------------------------------------------------------------------------------------------------\n"
          ]
        },
        {
          "name": "stderr",
          "output_type": "stream",
          "text": [
            "Training\t9/25: 100%|██████████| 3126/3126 [00:17<00:00, 179.64it/s]\n",
            "Evaluation\t9/25: 100%|██████████| 391/391 [00:00<00:00, 722.69it/s]\n"
          ]
        },
        {
          "name": "stdout",
          "output_type": "stream",
          "text": [
            "Epoch\t\t9/25,\tTraining Loss: 0.8314525909661523,\tEvaluation Loss: 0.838872056918978\n",
            "---------------------------------------------------------------------------------------------------------\n"
          ]
        },
        {
          "name": "stderr",
          "output_type": "stream",
          "text": [
            "Training\t10/25: 100%|██████████| 3126/3126 [00:17<00:00, 180.07it/s]\n",
            "Evaluation\t10/25: 100%|██████████| 391/391 [00:00<00:00, 733.58it/s]\n"
          ]
        },
        {
          "name": "stdout",
          "output_type": "stream",
          "text": [
            "Epoch\t\t10/25,\tTraining Loss: 0.8289425552471531,\tEvaluation Loss: 0.8315006732205307\n",
            "---------------------------------------------------------------------------------------------------------\n"
          ]
        },
        {
          "name": "stderr",
          "output_type": "stream",
          "text": [
            "Training\t11/25: 100%|██████████| 3126/3126 [00:17<00:00, 179.47it/s]\n",
            "Evaluation\t11/25: 100%|██████████| 391/391 [00:00<00:00, 739.47it/s]\n"
          ]
        },
        {
          "name": "stdout",
          "output_type": "stream",
          "text": [
            "Epoch\t\t11/25,\tTraining Loss: 0.8265477589620029,\tEvaluation Loss: 0.830552795386553\n",
            "---------------------------------------------------------------------------------------------------------\n"
          ]
        },
        {
          "name": "stderr",
          "output_type": "stream",
          "text": [
            "Training\t12/25: 100%|██████████| 3126/3126 [00:17<00:00, 183.84it/s]\n",
            "Evaluation\t12/25: 100%|██████████| 391/391 [00:00<00:00, 732.69it/s]\n"
          ]
        },
        {
          "name": "stdout",
          "output_type": "stream",
          "text": [
            "Epoch\t\t12/25,\tTraining Loss: 0.8244350515540966,\tEvaluation Loss: 0.8369735970680056\n",
            "---------------------------------------------------------------------------------------------------------\n"
          ]
        },
        {
          "name": "stderr",
          "output_type": "stream",
          "text": [
            "Training\t13/25: 100%|██████████| 3126/3126 [00:17<00:00, 179.00it/s]\n",
            "Evaluation\t13/25: 100%|██████████| 391/391 [00:00<00:00, 632.05it/s]\n"
          ]
        },
        {
          "name": "stdout",
          "output_type": "stream",
          "text": [
            "Epoch\t\t13/25,\tTraining Loss: 0.8232692640843957,\tEvaluation Loss: 0.8290621820798935\n",
            "---------------------------------------------------------------------------------------------------------\n"
          ]
        },
        {
          "name": "stderr",
          "output_type": "stream",
          "text": [
            "Training\t14/25: 100%|██████████| 3126/3126 [00:17<00:00, 182.06it/s]\n",
            "Evaluation\t14/25: 100%|██████████| 391/391 [00:00<00:00, 735.54it/s]\n"
          ]
        },
        {
          "name": "stdout",
          "output_type": "stream",
          "text": [
            "Epoch\t\t14/25,\tTraining Loss: 0.8220406300686068,\tEvaluation Loss: 0.8307396698322943\n",
            "---------------------------------------------------------------------------------------------------------\n"
          ]
        },
        {
          "name": "stderr",
          "output_type": "stream",
          "text": [
            "Training\t15/25: 100%|██████████| 3126/3126 [00:17<00:00, 177.44it/s]\n",
            "Evaluation\t15/25: 100%|██████████| 391/391 [00:00<00:00, 640.44it/s]\n"
          ]
        },
        {
          "name": "stdout",
          "output_type": "stream",
          "text": [
            "Epoch\t\t15/25,\tTraining Loss: 0.8212664723946784,\tEvaluation Loss: 0.8280898868293323\n",
            "---------------------------------------------------------------------------------------------------------\n"
          ]
        },
        {
          "name": "stderr",
          "output_type": "stream",
          "text": [
            "Training\t16/25: 100%|██████████| 3126/3126 [00:17<00:00, 178.44it/s]\n",
            "Evaluation\t16/25: 100%|██████████| 391/391 [00:00<00:00, 742.98it/s]\n"
          ]
        },
        {
          "name": "stdout",
          "output_type": "stream",
          "text": [
            "Epoch\t\t16/25,\tTraining Loss: 0.8205760525619783,\tEvaluation Loss: 0.8287878534760744\n",
            "---------------------------------------------------------------------------------------------------------\n"
          ]
        },
        {
          "name": "stderr",
          "output_type": "stream",
          "text": [
            "Training\t17/25: 100%|██████████| 3126/3126 [00:17<00:00, 180.34it/s]\n",
            "Evaluation\t17/25: 100%|██████████| 391/391 [00:00<00:00, 638.47it/s]\n"
          ]
        },
        {
          "name": "stdout",
          "output_type": "stream",
          "text": [
            "Epoch\t\t17/25,\tTraining Loss: 0.8200939345947262,\tEvaluation Loss: 0.8296606740355283\n",
            "---------------------------------------------------------------------------------------------------------\n"
          ]
        },
        {
          "name": "stderr",
          "output_type": "stream",
          "text": [
            "Training\t18/25: 100%|██████████| 3126/3126 [00:17<00:00, 182.92it/s]\n",
            "Evaluation\t18/25: 100%|██████████| 391/391 [00:00<00:00, 739.74it/s]\n"
          ]
        },
        {
          "name": "stdout",
          "output_type": "stream",
          "text": [
            "Epoch\t\t18/25,\tTraining Loss: 0.8197562512090147,\tEvaluation Loss: 0.8295566636085977\n",
            "---------------------------------------------------------------------------------------------------------\n"
          ]
        },
        {
          "name": "stderr",
          "output_type": "stream",
          "text": [
            "Training\t19/25: 100%|██████████| 3126/3126 [00:17<00:00, 179.81it/s]\n",
            "Evaluation\t19/25: 100%|██████████| 391/391 [00:00<00:00, 612.71it/s]\n"
          ]
        },
        {
          "name": "stdout",
          "output_type": "stream",
          "text": [
            "Epoch\t\t19/25,\tTraining Loss: 0.8193132356973587,\tEvaluation Loss: 0.828087908454627\n",
            "---------------------------------------------------------------------------------------------------------\n"
          ]
        },
        {
          "name": "stderr",
          "output_type": "stream",
          "text": [
            "Training\t20/25: 100%|██████████| 3126/3126 [00:17<00:00, 179.11it/s]\n",
            "Evaluation\t20/25: 100%|██████████| 391/391 [00:00<00:00, 726.87it/s]\n"
          ]
        },
        {
          "name": "stdout",
          "output_type": "stream",
          "text": [
            "Epoch\t\t20/25,\tTraining Loss: 0.818969957532277,\tEvaluation Loss: 0.8290039745213666\n",
            "---------------------------------------------------------------------------------------------------------\n"
          ]
        },
        {
          "name": "stderr",
          "output_type": "stream",
          "text": [
            "Training\t21/25: 100%|██████████| 3126/3126 [00:17<00:00, 179.49it/s]\n",
            "Evaluation\t21/25: 100%|██████████| 391/391 [00:00<00:00, 631.86it/s]\n"
          ]
        },
        {
          "name": "stdout",
          "output_type": "stream",
          "text": [
            "Epoch\t\t21/25,\tTraining Loss: 0.8184225556269162,\tEvaluation Loss: 0.8280892267219402\n",
            "---------------------------------------------------------------------------------------------------------\n"
          ]
        },
        {
          "name": "stderr",
          "output_type": "stream",
          "text": [
            "Training\t22/25: 100%|██████████| 3126/3126 [00:18<00:00, 172.45it/s]\n",
            "Evaluation\t22/25: 100%|██████████| 391/391 [00:00<00:00, 741.55it/s]\n"
          ]
        },
        {
          "name": "stdout",
          "output_type": "stream",
          "text": [
            "Epoch\t\t22/25,\tTraining Loss: 0.8183428993853402,\tEvaluation Loss: 0.8289022104567397\n",
            "---------------------------------------------------------------------------------------------------------\n"
          ]
        },
        {
          "name": "stderr",
          "output_type": "stream",
          "text": [
            "Training\t23/25: 100%|██████████| 3126/3126 [00:17<00:00, 179.72it/s]\n",
            "Evaluation\t23/25: 100%|██████████| 391/391 [00:00<00:00, 640.78it/s]\n"
          ]
        },
        {
          "name": "stdout",
          "output_type": "stream",
          "text": [
            "Epoch\t\t23/25,\tTraining Loss: 0.818236540991792,\tEvaluation Loss: 0.828220911306966\n",
            "---------------------------------------------------------------------------------------------------------\n"
          ]
        },
        {
          "name": "stderr",
          "output_type": "stream",
          "text": [
            "Training\t24/25: 100%|██████████| 3126/3126 [00:17<00:00, 175.82it/s]\n",
            "Evaluation\t24/25: 100%|██████████| 391/391 [00:00<00:00, 734.59it/s]\n"
          ]
        },
        {
          "name": "stdout",
          "output_type": "stream",
          "text": [
            "Epoch\t\t24/25,\tTraining Loss: 0.8176924535265787,\tEvaluation Loss: 0.8280791897236984\n",
            "---------------------------------------------------------------------------------------------------------\n"
          ]
        },
        {
          "name": "stderr",
          "output_type": "stream",
          "text": [
            "Training\t25/25: 100%|██████████| 3126/3126 [00:17<00:00, 177.41it/s]\n",
            "Evaluation\t25/25: 100%|██████████| 391/391 [00:00<00:00, 735.78it/s]"
          ]
        },
        {
          "name": "stdout",
          "output_type": "stream",
          "text": [
            "Epoch\t\t25/25,\tTraining Loss: 0.8178299087278539,\tEvaluation Loss: 0.8280077858227962\n",
            "---------------------------------------------------------------------------------------------------------\n"
          ]
        },
        {
          "name": "stderr",
          "output_type": "stream",
          "text": [
            "\n"
          ]
        }
      ],
      "source": [
        "# Define the dataset\n",
        "class RatingsDataset(Dataset):\n",
        "    def __init__(self, ratings, device='cpu'):\n",
        "        #TODO\n",
        "        self.ratings = ratings\n",
        "        user_ids = ratings['user_id'].to_numpy()\n",
        "        self.user_ids = torch.tensor(user_ids, dtype=torch.long).to(device)\n",
        "        movie_ids = ratings['movie_id'].to_numpy()\n",
        "        self.movie_ids = torch.tensor(movie_ids, dtype=torch.long).to(device)\n",
        "        ratings = ratings['rating'].to_numpy()\n",
        "        self.ratings = torch.tensor(ratings, dtype=torch.float).to(device)\n",
        "\n",
        "\n",
        "    def __len__(self):\n",
        "        #TODO\n",
        "        return len(self.ratings)\n",
        "\n",
        "    def __getitem__(self, idx):\n",
        "        #TODO\n",
        "        user_id = self.user_ids[idx]\n",
        "        movie_id = self.movie_ids[idx]\n",
        "        rating = self.ratings[idx]\n",
        "        return user_id, movie_id, rating\n",
        "    \n",
        "\n",
        "# Define the neural network\n",
        "class RecommenderNet(nn.Module):\n",
        "    def __init__(self, num_users, num_movies, embedding_size=50):\n",
        "        super(RecommenderNet, self).__init__()\n",
        "        #TODO\n",
        "        self.user_embedding = nn.Embedding(num_users, embedding_size)\n",
        "        self.movie_embedding = nn.Embedding(num_movies, embedding_size)\n",
        "        self.fc1 = nn.Linear(embedding_size*2, 128)\n",
        "        self.fc2 = nn.Linear(128, 64)\n",
        "        self.fc3 = nn.Linear(64, 1)\n",
        "        self.dropout = nn.Dropout(0.2)\n",
        "\n",
        "    def forward(self, user, movie):\n",
        "        #TODO\n",
        "        user_embedding = self.user_embedding(user)\n",
        "        movie_embedding = self.movie_embedding(movie)\n",
        "        x = torch.cat([user_embedding, movie_embedding], dim=1)\n",
        "        x = self.fc1(x)\n",
        "        x = self.dropout(x)\n",
        "        x = self.fc2(x)\n",
        "        x = self.dropout(x)\n",
        "        x = self.fc3(x)\n",
        "        return x\n",
        "    \n",
        "\n",
        "# Hyperparameters\n",
        "BATCH_SIZE = 256\n",
        "EMBEDDING_SIZE = 128\n",
        "LEARNING_RATE = 0.0005\n",
        "device = torch.device('cuda' if torch.cuda.is_available() else 'cpu')\n",
        "\n",
        "\n",
        "# Create the dataset and dataloader\n",
        "train, test = train_test_split(ratings, test_size=0.1)\n",
        "train, eval = train_test_split(train, test_size=1/9)\n",
        "\n",
        "train_dataset = RatingsDataset(train, device)\n",
        "eval_dataset = RatingsDataset(eval, device)\n",
        "test_dataset = RatingsDataset(test, device)\n",
        "\n",
        "train_dataloader = DataLoader(train_dataset, batch_size=BATCH_SIZE, shuffle=True)\n",
        "eval_dataloader = DataLoader(eval_dataset, batch_size=BATCH_SIZE, shuffle=False)\n",
        "test_dataloader = DataLoader(test_dataset, batch_size=BATCH_SIZE, shuffle=False)\n",
        "\n",
        "\n",
        "# Initialize the model, loss function and optimizer\n",
        "max_user_id = ratings['user_id'].max() + 1\n",
        "max_movie_id = ratings['movie_id'].max() + 1\n",
        "model = RecommenderNet(num_users=max_user_id, num_movies=max_movie_id, embedding_size=EMBEDDING_SIZE).to(device)\n",
        "criterion = nn.MSELoss()\n",
        "optimizer = torch.optim.Adam(model.parameters(), lr=LEARNING_RATE)\n",
        "\n",
        "\n",
        "# Training loop\n",
        "n_epochs = 25\n",
        "train_losses = []\n",
        "eval_losses = []\n",
        "for epoch in range(n_epochs):\n",
        "    model.train()\n",
        "    total_loss = 0\n",
        "    for i, (user, movie, rating) in tqdm(enumerate(train_dataloader), total=len(train_dataloader), desc=f'Training\\t{epoch+1}/{n_epochs}'):\n",
        "        optimizer.zero_grad()\n",
        "        output = model(user, movie)\n",
        "        loss = criterion(output, rating.view(-1, 1))\n",
        "        loss.backward()\n",
        "        optimizer.step()\n",
        "        total_loss += loss.item() * len(user)\n",
        "    train_losses.append(total_loss/len(train_dataset))\n",
        "    \n",
        "    model.eval()\n",
        "    eval_loss = 0\n",
        "    with torch.no_grad():\n",
        "        for user, movie, rating in tqdm(eval_dataloader, total=len(eval_dataloader), desc=f'Evaluation\\t{epoch+1}/{n_epochs}'):\n",
        "            output = model(user, movie)\n",
        "            loss = criterion(output, rating.view(-1, 1))\n",
        "            eval_loss += loss.item() * len(user)\n",
        "    eval_losses.append(eval_loss/len(eval_dataset))\n",
        "\n",
        "    if eval_losses[-1] == min(eval_losses):\n",
        "        torch.save(model.state_dict(), project_root+'/models/recommender_nn_model.pth')\n",
        "    print(f'Epoch\\t\\t{epoch+1}/{n_epochs},\\tTraining Loss: {train_losses[-1]},\\tEvaluation Loss: {eval_losses[-1]}')\n",
        "    print('---------------------------------------------------------------------------------------------------------')"
      ]
    },
    {
      "cell_type": "code",
      "execution_count": 34,
      "metadata": {},
      "outputs": [
        {
          "data": {
            "image/png": "[encoded data removed]",
            "text/plain": [
              "<Figure size 640x480 with 1 Axes>"
            ]
          },
          "metadata": {},
          "output_type": "display_data"
        }
      ],
      "source": [
        "import matplotlib.pyplot as plt\n",
        "\n",
        "plt.plot(train_losses, label='Train Loss')\n",
        "plt.plot(eval_losses, label='Evaluation Loss')\n",
        "plt.xlabel('Epochs')\n",
        "plt.ylabel('Loss')\n",
        "plt.legend()\n",
        "plt.show()"
      ]
    },
    {
      "cell_type": "code",
      "execution_count": 35,
      "metadata": {},
      "outputs": [
        {
          "name": "stdout",
          "output_type": "stream",
          "text": [
            "Root Mean Squared Error: 0.9095461244054771\n"
          ]
        }
      ],
      "source": [
        "# Evaluation\n",
        "model = RecommenderNet(num_users=max_user_id, num_movies=max_movie_id, embedding_size=EMBEDDING_SIZE)\n",
        "model.load_state_dict(torch.load(project_root+'/models/recommender_nn_model.pth'))\n",
        "model.eval()\n",
        "model.to(device)\n",
        "predictions = []\n",
        "targets = []\n",
        "with torch.no_grad():\n",
        "    for user, movie, rating in test_dataloader:\n",
        "        output = model(user, movie)\n",
        "        predictions.extend(output.squeeze().tolist())\n",
        "        targets.extend(rating.tolist())\n",
        "\n",
        "rmse = sqrt(mean_squared_error(targets, predictions))\n",
        "print(f'Root Mean Squared Error: {rmse}')"
      ]
    },
    {
      "cell_type": "code",
      "execution_count": 36,
      "metadata": {
        "id": "CjU9mSxz0e0i"
      },
      "outputs": [
        {
          "name": "stdout",
          "output_type": "stream",
          "text": [
            "Sample predictions for user ID 1:\n",
            "Movie ID: 1193, Predicted Rating: 4.769367694854736, Actual Rating: 5.0\n",
            "Movie ID: 661, Predicted Rating: 3.734157085418701, Actual Rating: 3.0\n",
            "Movie ID: 914, Predicted Rating: 4.481132507324219, Actual Rating: 3.0\n",
            "Movie ID: 3408, Predicted Rating: 4.083086967468262, Actual Rating: 4.0\n",
            "Movie ID: 2355, Predicted Rating: 4.130919933319092, Actual Rating: 5.0\n",
            "Movie ID: 1197, Predicted Rating: 4.577457904815674, Actual Rating: 3.0\n",
            "Movie ID: 1287, Predicted Rating: 4.420127868652344, Actual Rating: 5.0\n",
            "Movie ID: 2804, Predicted Rating: 4.513021945953369, Actual Rating: 5.0\n",
            "Movie ID: 594, Predicted Rating: 4.149550437927246, Actual Rating: 4.0\n",
            "Movie ID: 919, Predicted Rating: 4.524262428283691, Actual Rating: 4.0\n",
            "Movie ID: 595, Predicted Rating: 4.237360954284668, Actual Rating: 5.0\n",
            "Movie ID: 938, Predicted Rating: 3.9974708557128906, Actual Rating: 4.0\n",
            "Movie ID: 2398, Predicted Rating: 4.262789249420166, Actual Rating: 4.0\n",
            "Movie ID: 2918, Predicted Rating: 4.4236369132995605, Actual Rating: 4.0\n",
            "Movie ID: 1035, Predicted Rating: 4.205961227416992, Actual Rating: 5.0\n",
            "Movie ID: 2791, Predicted Rating: 4.278648376464844, Actual Rating: 4.0\n",
            "Movie ID: 2687, Predicted Rating: 3.9352736473083496, Actual Rating: 3.0\n",
            "Movie ID: 2018, Predicted Rating: 4.055851459503174, Actual Rating: 4.0\n",
            "Movie ID: 3105, Predicted Rating: 4.1054606437683105, Actual Rating: 5.0\n",
            "Movie ID: 2797, Predicted Rating: 4.177988052368164, Actual Rating: 4.0\n",
            "Movie ID: 2321, Predicted Rating: 3.9870352745056152, Actual Rating: 3.0\n",
            "Movie ID: 720, Predicted Rating: 4.730418682098389, Actual Rating: 3.0\n",
            "Movie ID: 1270, Predicted Rating: 4.254526138305664, Actual Rating: 5.0\n",
            "Movie ID: 527, Predicted Rating: 4.7945556640625, Actual Rating: 5.0\n",
            "Movie ID: 2340, Predicted Rating: 3.5651721954345703, Actual Rating: 3.0\n",
            "Movie ID: 48, Predicted Rating: 3.2833545207977295, Actual Rating: 5.0\n",
            "Movie ID: 1097, Predicted Rating: 4.249435901641846, Actual Rating: 4.0\n",
            "Movie ID: 1721, Predicted Rating: 3.884989023208618, Actual Rating: 4.0\n",
            "Movie ID: 1545, Predicted Rating: 4.433949947357178, Actual Rating: 4.0\n",
            "Movie ID: 745, Predicted Rating: 4.906821250915527, Actual Rating: 3.0\n",
            "Movie ID: 2294, Predicted Rating: 3.7502806186676025, Actual Rating: 4.0\n",
            "Movie ID: 3186, Predicted Rating: 3.784066677093506, Actual Rating: 4.0\n",
            "Movie ID: 1566, Predicted Rating: 3.5529747009277344, Actual Rating: 4.0\n",
            "Movie ID: 588, Predicted Rating: 4.057255268096924, Actual Rating: 4.0\n",
            "Movie ID: 1907, Predicted Rating: 4.029343605041504, Actual Rating: 4.0\n",
            "Movie ID: 783, Predicted Rating: 3.5488827228546143, Actual Rating: 4.0\n",
            "Movie ID: 1836, Predicted Rating: 3.758516788482666, Actual Rating: 5.0\n",
            "Movie ID: 1022, Predicted Rating: 4.114363193511963, Actual Rating: 5.0\n",
            "Movie ID: 2762, Predicted Rating: 4.6445512771606445, Actual Rating: 4.0\n",
            "Movie ID: 150, Predicted Rating: 4.3633599281311035, Actual Rating: 5.0\n",
            "Movie ID: 1, Predicted Rating: 4.413456916809082, Actual Rating: 5.0\n",
            "Movie ID: 1961, Predicted Rating: 4.309335708618164, Actual Rating: 5.0\n",
            "Movie ID: 1962, Predicted Rating: 4.212029933929443, Actual Rating: 4.0\n",
            "Movie ID: 2692, Predicted Rating: 4.54591178894043, Actual Rating: 4.0\n",
            "Movie ID: 260, Predicted Rating: 4.727311611175537, Actual Rating: 4.0\n",
            "Movie ID: 1028, Predicted Rating: 4.169034004211426, Actual Rating: 5.0\n",
            "Movie ID: 1029, Predicted Rating: 4.035863399505615, Actual Rating: 5.0\n",
            "Movie ID: 1207, Predicted Rating: 4.782539367675781, Actual Rating: 4.0\n",
            "Movie ID: 2028, Predicted Rating: 4.609492301940918, Actual Rating: 5.0\n",
            "Movie ID: 531, Predicted Rating: 4.1212568283081055, Actual Rating: 4.0\n",
            "Movie ID: 3114, Predicted Rating: 4.451651096343994, Actual Rating: 4.0\n",
            "Movie ID: 608, Predicted Rating: 4.509869575500488, Actual Rating: 4.0\n",
            "Movie ID: 1246, Predicted Rating: 4.291752338409424, Actual Rating: 4.0\n"
          ]
        }
      ],
      "source": [
        "# Example\n",
        "\n",
        "sample_user_id = 1\n",
        "sample_user_data = ratings[ratings['user_id'] == sample_user_id]\n",
        "sample_dataset = RatingsDataset(sample_user_data)\n",
        "sample_dataloader = DataLoader(sample_dataset, batch_size=1, shuffle=False)\n",
        "\n",
        "print(f'Sample predictions for user ID {sample_user_id}:')\n",
        "with torch.no_grad():\n",
        "    for user, movie, rating in sample_dataloader:\n",
        "        output = model(user, movie).squeeze()\n",
        "        print(f'Movie ID: {movie.item()}, Predicted Rating: {output.item()}, Actual Rating: {rating.item()}')"
      ]
    },
    {
      "cell_type": "code",
      "execution_count": 37,
      "metadata": {
        "colab": {
          "base_uri": "https://localhost:8080/"
        },
        "id": "94kou8gVluPq",
        "outputId": "f2cd7975-dc1e-4033-b6d6-b25f7f207f1c"
      },
      "outputs": [
        {
          "data": {
            "text/html": [
              "<div>\n",
              "<style scoped>\n",
              "    .dataframe tbody tr th:only-of-type {\n",
              "        vertical-align: middle;\n",
              "    }\n",
              "\n",
              "    .dataframe tbody tr th {\n",
              "        vertical-align: top;\n",
              "    }\n",
              "\n",
              "    .dataframe thead th {\n",
              "        text-align: right;\n",
              "    }\n",
              "</style>\n",
              "<table border=\"1\" class=\"dataframe\">\n",
              "  <thead>\n",
              "    <tr style=\"text-align: right;\">\n",
              "      <th></th>\n",
              "      <th>movie_id</th>\n",
              "      <th>title</th>\n",
              "      <th>genres</th>\n",
              "      <th>predicted_rating</th>\n",
              "    </tr>\n",
              "  </thead>\n",
              "  <tbody>\n",
              "    <tr>\n",
              "      <th>0</th>\n",
              "      <td>1787</td>\n",
              "      <td>Paralyzing Fear: The Story of Polio in America...</td>\n",
              "      <td>Documentary</td>\n",
              "      <td>5.280672</td>\n",
              "    </tr>\n",
              "    <tr>\n",
              "      <th>1</th>\n",
              "      <td>557</td>\n",
              "      <td>Mamma Roma (1962)</td>\n",
              "      <td>Drama</td>\n",
              "      <td>5.274910</td>\n",
              "    </tr>\n",
              "    <tr>\n",
              "      <th>2</th>\n",
              "      <td>3245</td>\n",
              "      <td>I Am Cuba (Soy Cuba/Ya Kuba) (1964)</td>\n",
              "      <td>Drama</td>\n",
              "      <td>5.220694</td>\n",
              "    </tr>\n",
              "    <tr>\n",
              "      <th>3</th>\n",
              "      <td>2503</td>\n",
              "      <td>Apple, The (Sib) (1998)</td>\n",
              "      <td>Drama</td>\n",
              "      <td>5.093840</td>\n",
              "    </tr>\n",
              "    <tr>\n",
              "      <th>4</th>\n",
              "      <td>787</td>\n",
              "      <td>Gate of Heavenly Peace, The (1995)</td>\n",
              "      <td>Documentary</td>\n",
              "      <td>5.059928</td>\n",
              "    </tr>\n",
              "    <tr>\n",
              "      <th>...</th>\n",
              "      <td>...</td>\n",
              "      <td>...</td>\n",
              "      <td>...</td>\n",
              "      <td>...</td>\n",
              "    </tr>\n",
              "    <tr>\n",
              "      <th>3648</th>\n",
              "      <td>1989</td>\n",
              "      <td>Prom Night III: The Last Kiss (1989)</td>\n",
              "      <td>Horror</td>\n",
              "      <td>1.742936</td>\n",
              "    </tr>\n",
              "    <tr>\n",
              "      <th>3649</th>\n",
              "      <td>1495</td>\n",
              "      <td>Turbo: A Power Rangers Movie (1997)</td>\n",
              "      <td>Action|Adventure|Children's</td>\n",
              "      <td>1.741862</td>\n",
              "    </tr>\n",
              "    <tr>\n",
              "      <th>3650</th>\n",
              "      <td>3166</td>\n",
              "      <td>Brenda Starr (1989)</td>\n",
              "      <td>Adventure</td>\n",
              "      <td>1.664145</td>\n",
              "    </tr>\n",
              "    <tr>\n",
              "      <th>3651</th>\n",
              "      <td>1538</td>\n",
              "      <td>Second Jungle Book: Mowgli &amp; Baloo, The (1997)</td>\n",
              "      <td>Adventure|Children's</td>\n",
              "      <td>1.556146</td>\n",
              "    </tr>\n",
              "    <tr>\n",
              "      <th>3652</th>\n",
              "      <td>1311</td>\n",
              "      <td>Santa with Muscles (1996)</td>\n",
              "      <td>Comedy</td>\n",
              "      <td>1.411214</td>\n",
              "    </tr>\n",
              "  </tbody>\n",
              "</table>\n",
              "<p>3653 rows × 4 columns</p>\n",
              "</div>"
            ],
            "text/plain": [
              "      movie_id                                              title  \\\n",
              "0         1787  Paralyzing Fear: The Story of Polio in America...   \n",
              "1          557                                  Mamma Roma (1962)   \n",
              "2         3245                I Am Cuba (Soy Cuba/Ya Kuba) (1964)   \n",
              "3         2503                            Apple, The (Sib) (1998)   \n",
              "4          787                 Gate of Heavenly Peace, The (1995)   \n",
              "...        ...                                                ...   \n",
              "3648      1989               Prom Night III: The Last Kiss (1989)   \n",
              "3649      1495                Turbo: A Power Rangers Movie (1997)   \n",
              "3650      3166                                Brenda Starr (1989)   \n",
              "3651      1538     Second Jungle Book: Mowgli & Baloo, The (1997)   \n",
              "3652      1311                          Santa with Muscles (1996)   \n",
              "\n",
              "                           genres  predicted_rating  \n",
              "0                     Documentary          5.280672  \n",
              "1                           Drama          5.274910  \n",
              "2                           Drama          5.220694  \n",
              "3                           Drama          5.093840  \n",
              "4                     Documentary          5.059928  \n",
              "...                           ...               ...  \n",
              "3648                       Horror          1.742936  \n",
              "3649  Action|Adventure|Children's          1.741862  \n",
              "3650                    Adventure          1.664145  \n",
              "3651         Adventure|Children's          1.556146  \n",
              "3652                       Comedy          1.411214  \n",
              "\n",
              "[3653 rows x 4 columns]"
            ]
          },
          "execution_count": 37,
          "metadata": {},
          "output_type": "execute_result"
        }
      ],
      "source": [
        "def predict_unrated_movies(user_id, model, ratings, movies):\n",
        "    #TODO\n",
        "    user_data = ratings[ratings['user_id'] == user_id]\n",
        "    rated_movies = user_data['movie_id']\n",
        "    all_movies = ratings['movie_id'].unique()\n",
        "    unrated_movies = list(set(all_movies) - set(rated_movies))\n",
        "    titles = []\n",
        "    genres = []\n",
        "    for movie_id in unrated_movies:\n",
        "        title = movies.loc[movies['movie_id'] == movie_id, 'title'].values[0]\n",
        "        genre = movies.loc[movies['movie_id'] == movie_id, 'genres'].values[0]\n",
        "        titles.append(title)\n",
        "        genres.append(genre)\n",
        "        \n",
        "    user_ids = [user_id]*len(unrated_movies)\n",
        "    user_ids = torch.tensor(user_ids, dtype=torch.long).to(device)\n",
        "    movie_ids = torch.tensor(unrated_movies, dtype=torch.long).to(device)\n",
        "    with torch.no_grad():\n",
        "        predictions = model(user_ids, movie_ids).squeeze().tolist()\n",
        "    predictions = list(zip(unrated_movies, titles, genres, predictions))\n",
        "    predictions = sorted(predictions, key=lambda x: x[3], reverse=True)\n",
        "    df = pd.DataFrame(predictions, columns=['movie_id', 'title', 'genres', 'predicted_rating'])\n",
        "    return df\n",
        "    \n",
        "\n",
        "# Example\n",
        "user_id = 1\n",
        "predictions = predict_unrated_movies(user_id, model, ratings, movies)\n",
        "predictions"
      ]
    },
    {
      "cell_type": "markdown",
      "metadata": {
        "id": "at9-Uddo0sB8"
      },
      "source": [
        "### GMM (Gaussian Mixture Model)"
      ]
    },
    {
      "cell_type": "markdown",
      "metadata": {
        "id": "GhT3dnRv3hAc"
      },
      "source": [
        "**Objective**: Use a Gaussian Mixture Model to analyze and cluster the click data based on the number of clicks from different locations, aiming to identify distinct patterns of user behavior across 10 countries.\n",
        "\n",
        "**Dataset**:\n",
        "- **Click Data**: DataFrame with columns `link_id`, `location`, and `number_of_clicks`.\n",
        "\n",
        "**Steps**:\n",
        "\n",
        "1. **Preprocess Data**:\n",
        "   - Ensure the dataset contains 10 distinct countries.\n",
        "   - Create a matrix where rows represent different links and columns represent the number of clicks from each country.\n",
        "   - Normalize the number of clicks to account for different scales.\n",
        "\n",
        "2. **Fit GMM**:\n",
        "   - Apply a Gaussian Mixture Model (GMM) to the click data matrix to identify clusters of links with similar click patterns across different countries.\n",
        "\n",
        "3. **Evaluate Model**:\n",
        "   - Analyze the resulting model by calculating the log lokelihood, BIC and AIC metrics.\n"
      ]
    },
    {
      "cell_type": "code",
      "execution_count": 45,
      "metadata": {
        "id": "Ug6I8y2lx55u"
      },
      "outputs": [
        {
          "name": "stdout",
          "output_type": "stream",
          "text": [
            "Log-Likelihood: 1.8798609964168238\n",
            "BIC: 2962.776185558002\n",
            "AIC: 1074.0278007166353\n"
          ]
        }
      ],
      "source": [
        "import pandas as pd\n",
        "import numpy as np\n",
        "from sklearn.mixture import GaussianMixture\n",
        "import matplotlib.pyplot as plt\n",
        "\n",
        "\n",
        "file_path = project_root+'/data/gmm-dataset.csv'\n",
        "df = pd.read_csv(file_path)\n",
        "df = df.drop(columns=['URL'])\n",
        "df = df.dropna()\n",
        "\n",
        "col_means = df.mean()\n",
        "col_std = df.std()\n",
        "df = (df - col_means) / col_std\n",
        "df = df.to_numpy()\n",
        "\n",
        "# TODO\n",
        "gmm = GaussianMixture(n_components=11)\n",
        "gmm.fit(df)\n",
        "\n",
        "# TODO\n",
        "log_likelihood = gmm.score(df)\n",
        "# TODO\n",
        "bic = gmm.bic(df)\n",
        "# TODO \n",
        "aic = gmm.aic(df)\n",
        "\n",
        "\n",
        "print(f\"Log-Likelihood: {log_likelihood}\")\n",
        "print(f\"BIC: {bic}\")\n",
        "print(f\"AIC: {aic}\")"
      ]
    }
  ],
  "metadata": {
    "colab": {
      "collapsed_sections": [
        "ASbIipkUgPuh",
        "at9-Uddo0sB8"
      ],
      "gpuType": "T4",
      "provenance": []
    },
    "kernelspec": {
      "display_name": "Python 3",
      "name": "python3"
    },
    "language_info": {
      "codemirror_mode": {
        "name": "ipython",
        "version": 3
      },
      "file_extension": ".py",
      "mimetype": "text/x-python",
      "name": "python",
      "nbconvert_exporter": "python",
      "pygments_lexer": "ipython3",
      "version": "3.12.2"
    }
  },
  "nbformat": 4,
  "nbformat_minor": 0
}
